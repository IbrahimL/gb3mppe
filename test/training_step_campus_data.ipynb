{
 "cells": [
  {
   "cell_type": "markdown",
   "metadata": {},
   "source": [
    "# MMG"
   ]
  },
  {
   "cell_type": "code",
   "execution_count": 1,
   "metadata": {},
   "outputs": [
    {
     "name": "stderr",
     "output_type": "stream",
     "text": [
      "Warning: To use the exr data format, please install the OpenEXR package following the instructions detailed in the README at github.com/tensorflow/graphics.\n",
      "Warning: To use the threejs_vizualization, please install the colabtools package following the instructions detailed in the README at github.com/tensorflow/graphics.\n"
     ]
    }
   ],
   "source": [
    "import _init_paths\n",
    "import tensorflow as tf\n",
    "from dataset.Dummy import Dummy\n",
    "from models.CRG import CRG\n",
    "from models.MMG import MMG\n",
    "from models.RRG import RRG\n",
    "from dataset.campus import *"
   ]
  },
  {
   "cell_type": "code",
   "execution_count": 2,
   "metadata": {},
   "outputs": [],
   "source": [
    "# Architecture parameters\n",
    "# MMG\n",
    "mmg_hidden_dim = [256, 128, 64]\n",
    "mmg_output_dim = 1"
   ]
  },
  {
   "cell_type": "code",
   "execution_count": 3,
   "metadata": {},
   "outputs": [
    {
     "name": "stdout",
     "output_type": "stream",
     "text": [
      "(1295, 9, 9)\n",
      "(400, 9, 512)\n",
      "(400, 9, 9, 1)\n",
      "(400, 9, 9, 1)\n"
     ]
    }
   ],
   "source": [
    "campus_dataset = Campus('../../data/Campus/node_features.pkl', '../../data/Campus/edge_features.pkl', '../../data/Campus/GT_graphs.pkl')\n",
    "node_features, adjacency, edge_features, gt_graphs = campus_dataset._generate_graphs()\n",
    "adjacency_sparse= tf.sparse.from_dense(adjacency[0:400])\n",
    "node_features=node_features[0:400]\n",
    "edge_features=edge_features[0:400]\n",
    "gt_graphs=gt_graphs[0:400]\n",
    "\n",
    "print(adjacency.shape)\n",
    "print(node_features.shape)\n",
    "print(edge_features.shape)\n",
    "print(gt_graphs.shape)"
   ]
  },
  {
   "cell_type": "code",
   "execution_count": 7,
   "metadata": {},
   "outputs": [],
   "source": [
    "# Architecture Init\n",
    "mmg_model = MMG(mmg_hidden_dim, mmg_output_dim)\n"
   ]
  },
  {
   "cell_type": "code",
   "execution_count": 8,
   "metadata": {},
   "outputs": [],
   "source": [
    "adjacency=tf.cast(adjacency,tf.float32)\n",
    "node_features=tf.cast(node_features,tf.float32)\n",
    "edge_features=tf.cast(edge_features,tf.float32)\n",
    "gt_graphs = tf.cast(gt_graphs,tf.float32)"
   ]
  },
  {
   "cell_type": "code",
   "execution_count": 9,
   "metadata": {},
   "outputs": [
    {
     "name": "stdout",
     "output_type": "stream",
     "text": [
      "tf.Tensor(\n",
      "[0.52087945 0.51606476 0.54030573 0.5114838  0.50289243 0.53289294\n",
      " 0.5168762  0.49992716 0.51531136], shape=(9,), dtype=float32)\n"
     ]
    },
    {
     "data": {
      "text/plain": [
       "<tf.Tensor: shape=(9, 1), dtype=float32, numpy=\n",
       "array([[0.],\n",
       "       [0.],\n",
       "       [0.],\n",
       "       [0.],\n",
       "       [1.],\n",
       "       [0.],\n",
       "       [0.],\n",
       "       [1.],\n",
       "       [0.]], dtype=float32)>"
      ]
     },
     "execution_count": 9,
     "metadata": {},
     "output_type": "execute_result"
    }
   ],
   "source": [
    "# Forward Pass\n",
    "# MMG\n",
    "mmg_output = mmg_model(adjacency_sparse, node_features, edge_features)\n",
    "print(mmg_output[0][1])\n",
    "gt_graphs[0][1]"
   ]
  },
  {
   "cell_type": "code",
   "execution_count": 10,
   "metadata": {},
   "outputs": [],
   "source": [
    "# train_step \n",
    "# j'ai mis la sortie en target juste pr être sur d'avoir les bnes dimensions\n",
    "mmg_model.train_step([adjacency_sparse, node_features, edge_features], gt_graphs )"
   ]
  },
  {
   "cell_type": "code",
   "execution_count": 11,
   "metadata": {},
   "outputs": [],
   "source": [
    "EPOCHS = 50\n",
    "for epoch in range(EPOCHS):\n",
    "    for k in range(0,390,10):\n",
    "        a_sparse= tf.sparse.from_dense(adjacency[k:k+10])\n",
    "        n_features=node_features[k:k+10]\n",
    "        e_features=edge_features[k:k+10]\n",
    "        g_graphs=gt_graphs[k:k+10]\n",
    "        mmg_model.train_step([a_sparse, n_features, e_features], g_graphs )"
   ]
  },
  {
   "cell_type": "code",
   "execution_count": 12,
   "metadata": {},
   "outputs": [],
   "source": [
    "output = mmg_model(tf.sparse.from_dense(adjacency[0:15]), node_features[0:15], edge_features[0:15])"
   ]
  },
  {
   "cell_type": "code",
   "execution_count": 13,
   "metadata": {},
   "outputs": [
    {
     "data": {
      "text/plain": [
       "<tf.Tensor: shape=(9,), dtype=float32, numpy=\n",
       "array([1.3795872e-07, 1.8044177e-07, 9.1643176e-10, 1.2438804e-02,\n",
       "       9.9640262e-01, 5.0289149e-05, 5.6472123e-03, 9.9710441e-01,\n",
       "       5.4354223e-05], dtype=float32)>"
      ]
     },
     "execution_count": 13,
     "metadata": {},
     "output_type": "execute_result"
    }
   ],
   "source": [
    "output[14][1]"
   ]
  },
  {
   "cell_type": "code",
   "execution_count": 14,
   "metadata": {},
   "outputs": [
    {
     "data": {
      "text/plain": [
       "<tf.Tensor: shape=(9, 1), dtype=float32, numpy=\n",
       "array([[0.],\n",
       "       [0.],\n",
       "       [0.],\n",
       "       [0.],\n",
       "       [1.],\n",
       "       [0.],\n",
       "       [0.],\n",
       "       [1.],\n",
       "       [0.]], dtype=float32)>"
      ]
     },
     "execution_count": 14,
     "metadata": {},
     "output_type": "execute_result"
    }
   ],
   "source": [
    "gt_graphs[14][1]"
   ]
  },
  {
   "cell_type": "code",
   "execution_count": null,
   "metadata": {},
   "outputs": [],
   "source": []
  }
 ],
 "metadata": {
  "interpreter": {
   "hash": "7b4b4feff2f24a0f0a34464dbe537a36fda679851528fb8735cb41fa49dffb2d"
  },
  "kernelspec": {
   "display_name": "Python 3",
   "language": "python",
   "name": "python3"
  },
  "language_info": {
   "codemirror_mode": {
    "name": "ipython",
    "version": 3
   },
   "file_extension": ".py",
   "mimetype": "text/x-python",
   "name": "python",
   "nbconvert_exporter": "python",
   "pygments_lexer": "ipython3",
   "version": "3.8.8"
  }
 },
 "nbformat": 4,
 "nbformat_minor": 2
}
