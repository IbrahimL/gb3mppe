{
 "cells": [
  {
   "cell_type": "code",
   "execution_count": 2,
   "metadata": {},
   "outputs": [],
   "source": [
    "import _init_paths\n",
    "import tensorflow as tf\n",
    "from dataset.Dummy import Dummy\n",
    "from models.CRG import CRG\n",
    "from models.MMG import MMG\n",
    "from models.RRG import RRG"
   ]
  },
  {
   "cell_type": "markdown",
   "metadata": {},
   "source": [
    "##### Test forward pass with dummy dataset"
   ]
  },
  {
   "cell_type": "code",
   "execution_count": 3,
   "metadata": {},
   "outputs": [],
   "source": [
    "# Dataset parameters\n",
    "n_samples = 16\n",
    "n_nodes = 12\n",
    "node_feat_dim = 8\n",
    "edge_feat_dim = 4"
   ]
  },
  {
   "cell_type": "code",
   "execution_count": 4,
   "metadata": {},
   "outputs": [
    {
     "name": "stdout",
     "output_type": "stream",
     "text": [
      "adjaceny shape: (16, 12, 12)\n",
      "node features shape: (16, 12, 8)\n",
      "edge features shape: (16, 12, 12, 4)\n",
      "coordinates shape: (16, 12, 3)\n",
      "center scores shape: (16, 12, 1)\n",
      "joint types  shape: (16, 12, 15)\n"
     ]
    }
   ],
   "source": [
    "# Dataset\n",
    "dummy = Dummy(n_samples, n_nodes, node_feat_dim, edge_feat_dim)\n",
    "dummy_dataset = dummy._get_db()\n",
    "adjacency = dummy_dataset['adjacency']\n",
    "node_features = dummy_dataset['node_features']\n",
    "edge_features = dummy_dataset['edge_features']\n",
    "coordinates = dummy_dataset['coordinates']\n",
    "center_scores = dummy_dataset['center_scores']\n",
    "joint_types = dummy_dataset['joint_types']\n",
    "print('adjaceny shape:', adjacency.shape)\n",
    "print('node features shape:', node_features.shape)\n",
    "print('edge features shape:', edge_features.shape)\n",
    "print('coordinates shape:', coordinates.shape)\n",
    "print('center scores shape:', center_scores.shape)\n",
    "print('joint types  shape:', joint_types.shape)"
   ]
  },
  {
   "cell_type": "code",
   "execution_count": 5,
   "metadata": {},
   "outputs": [],
   "source": [
    "# Architecture parameters\n",
    "# MMG\n",
    "mmg_hidden_dim = [256, 128, 64]\n",
    "mmg_output_dim = 1\n",
    "# CRG\n",
    "crg_mlp_dim =  [256, 256, 256]\n",
    "crg_hidden_dim = [32, 32, 128]\n",
    "crg_output_dim = 1\n",
    "# RRG\n",
    "rrg_mlp_dim = [512, 1024, 256, 256, 256]\n",
    "rrg_hidden_dim = [32, 32, 512, 128, 128]\n",
    "rrg_output_dim = [3, 1]\n"
   ]
  },
  {
   "cell_type": "code",
   "execution_count": 7,
   "metadata": {},
   "outputs": [],
   "source": [
    "# Architecture Init\n",
    "mmg_model = MMG(mmg_hidden_dim, mmg_output_dim)\n",
    "crg_model = CRG(crg_mlp_dim, crg_hidden_dim, crg_output_dim)\n",
    "#rrg_model = RRG(rrg_mlp_dim, rrg_hidden_dim, rrg_output_dim)"
   ]
  },
  {
   "cell_type": "code",
   "execution_count": 8,
   "metadata": {},
   "outputs": [
    {
     "name": "stdout",
     "output_type": "stream",
     "text": [
      "(16, 12, 12)\n",
      "(16, 12, 12)\n",
      "tf.Tensor(\n",
      "[[[0.49993828 0.510495   0.50846714 ... 0.5057817  0.5068571  0.50308305]\n",
      "  [0.5036193  0.5133131  0.51352936 ... 0.5102502  0.5121088  0.50747216]\n",
      "  [0.49928814 0.5077107  0.5074461  ... 0.50467527 0.50615984 0.50339735]\n",
      "  ...\n",
      "  [0.5018156  0.5112687  0.5105842  ... 0.5079068  0.5096881  0.5058505 ]\n",
      "  [0.5016655  0.5098252  0.5096593  ... 0.5058663  0.50736564 0.50339943]\n",
      "  [0.4954424  0.5022747  0.5027039  ... 0.49930978 0.5018141  0.4971949 ]]\n",
      "\n",
      " [[0.5014205  0.5021823  0.50315773 ... 0.49484026 0.49915767 0.5020927 ]\n",
      "  [0.5036763  0.5040846  0.50562805 ... 0.49825925 0.50334406 0.5062331 ]\n",
      "  [0.50448596 0.50473017 0.506808   ... 0.49861753 0.5038445  0.50726575]\n",
      "  ...\n",
      "  [0.5074161  0.5070909  0.5095246  ... 0.5005175  0.50475085 0.5082704 ]\n",
      "  [0.50670046 0.5070573  0.50865126 ... 0.5009067  0.5051628  0.50778097]\n",
      "  [0.50878024 0.5067932  0.50822747 ... 0.49957946 0.5044086  0.50817055]]\n",
      "\n",
      " [[0.5068977  0.5091038  0.5064744  ... 0.5094071  0.50778234 0.50907683]\n",
      "  [0.5036623  0.50438356 0.5058959  ... 0.506276   0.5052386  0.50838286]\n",
      "  [0.49627343 0.50020516 0.4967389  ... 0.5000047  0.49731052 0.49918815]\n",
      "  ...\n",
      "  [0.5057362  0.5073052  0.5064862  ... 0.5070933  0.5064349  0.50689965]\n",
      "  [0.5087463  0.5097473  0.51066697 ... 0.51090825 0.5101088  0.5114186 ]\n",
      "  [0.50208277 0.50453234 0.5020981  ... 0.50522    0.5029065  0.5032911 ]]\n",
      "\n",
      " ...\n",
      "\n",
      " [[0.5021115  0.5036021  0.504969   ... 0.50611556 0.49908003 0.5049928 ]\n",
      "  [0.5114679  0.5103698  0.5159162  ... 0.51334524 0.5094422  0.5140047 ]\n",
      "  [0.50507843 0.50588286 0.5114198  ... 0.5099158  0.5030699  0.5090523 ]\n",
      "  ...\n",
      "  [0.5022704  0.5031726  0.50658745 ... 0.50603664 0.49942267 0.5062284 ]\n",
      "  [0.50624394 0.5077148  0.5124521  ... 0.5108479  0.50478023 0.509399  ]\n",
      "  [0.50257826 0.5028443  0.5066504  ... 0.504379   0.4993791  0.505913  ]]\n",
      "\n",
      " [[0.49956775 0.49662298 0.5020109  ... 0.50573474 0.49786296 0.4979515 ]\n",
      "  [0.5040171  0.50068027 0.5050025  ... 0.508244   0.50073236 0.50039977]\n",
      "  [0.50417143 0.50219846 0.5066299  ... 0.50880694 0.50188196 0.50101155]\n",
      "  ...\n",
      "  [0.51072085 0.50864047 0.5137068  ... 0.5181186  0.5101433  0.50639915]\n",
      "  [0.50223696 0.49976364 0.50640726 ... 0.50710213 0.50189346 0.49902332]\n",
      "  [0.5055519  0.5023908  0.5065356  ... 0.5099909  0.50290155 0.5020469 ]]\n",
      "\n",
      " [[0.5069934  0.5096385  0.5068213  ... 0.511904   0.5015505  0.5031892 ]\n",
      "  [0.507648   0.5114145  0.5081106  ... 0.51365036 0.50438946 0.50335777]\n",
      "  [0.5040664  0.50809735 0.5052327  ... 0.50866115 0.4995983  0.49966753]\n",
      "  ...\n",
      "  [0.5019842  0.5045163  0.50192225 ... 0.5074493  0.49798253 0.4995926 ]\n",
      "  [0.505364   0.5063631  0.50259215 ... 0.5108207  0.5015005  0.50148964]\n",
      "  [0.50346786 0.5080157  0.50460565 ... 0.50863326 0.4994251  0.49955574]]], shape=(16, 12, 12), dtype=float32)\n"
     ]
    }
   ],
   "source": [
    "# Forward Pass\n",
    "# MMG\n",
    "mmg_output = mmg_model(adjacency, node_features, edge_features)\n",
    "output_graphs = tf.reshape(mmg_output, adjacency.shape)\n",
    "print(mmg_output.shape)\n",
    "print(output_graphs.shape)\n",
    "print(output_graphs)"
   ]
  },
  {
   "cell_type": "code",
   "execution_count": 11,
   "metadata": {},
   "outputs": [],
   "source": [
    "# train_step \n",
    "# j'ai mis la sortie en target juste pr être sur d'avoir les bnes dimensions\n",
    "target = mmg_output\n",
    "mmg_model.train_step([adjacency, node_features, edge_features], target )\n"
   ]
  },
  {
   "cell_type": "code",
   "execution_count": 9,
   "metadata": {},
   "outputs": [
    {
     "name": "stdout",
     "output_type": "stream",
     "text": [
      "(16, 12, 1)\n"
     ]
    }
   ],
   "source": [
    "# CRG\n",
    "crg_output = crg_model(coordinates, adjacency, node_features, center_scores)\n",
    "print(crg_output.shape)"
   ]
  },
  {
   "cell_type": "code",
   "execution_count": null,
   "metadata": {},
   "outputs": [
    {
     "ename": "ValueError",
     "evalue": "Exception encountered when calling layer \"edge_conv_3\" (type EdgeConv).\n\nneighbors must have a rank of 2, but it has rank 3 and shape [16, 12, 12]\n\nCall arguments received:\n  • Adjacency=<tensorflow.python.framework.sparse_tensor.SparseTensor object at 0x000001F7CEEE7488>\n  • node_features=tf.Tensor(shape=(16, 512), dtype=float32)",
     "output_type": "error",
     "traceback": [
      "\u001b[1;31m---------------------------------------------------------------------------\u001b[0m",
      "\u001b[1;31mValueError\u001b[0m                                Traceback (most recent call last)",
      "\u001b[1;32m~\\AppData\\Local\\Temp/ipykernel_9224/3024744947.py\u001b[0m in \u001b[0;36m<module>\u001b[1;34m\u001b[0m\n\u001b[0;32m      1\u001b[0m \u001b[1;31m# RRG\u001b[0m\u001b[1;33m\u001b[0m\u001b[1;33m\u001b[0m\u001b[1;33m\u001b[0m\u001b[0m\n\u001b[1;32m----> 2\u001b[1;33m \u001b[0mrrg_output1\u001b[0m\u001b[1;33m,\u001b[0m \u001b[0mrrg_output2\u001b[0m \u001b[1;33m=\u001b[0m \u001b[0mrrg_model\u001b[0m\u001b[1;33m(\u001b[0m\u001b[0mcoordinates\u001b[0m\u001b[1;33m,\u001b[0m \u001b[0madjacency\u001b[0m\u001b[1;33m,\u001b[0m \u001b[0mnode_features\u001b[0m\u001b[1;33m,\u001b[0m \u001b[0medge_features\u001b[0m\u001b[1;33m,\u001b[0m \u001b[0mjoint_types\u001b[0m\u001b[1;33m)\u001b[0m\u001b[1;33m\u001b[0m\u001b[1;33m\u001b[0m\u001b[0m\n\u001b[0m\u001b[0;32m      3\u001b[0m \u001b[0mprint\u001b[0m\u001b[1;33m(\u001b[0m\u001b[0mrrg_output1\u001b[0m\u001b[1;33m.\u001b[0m\u001b[0mshape\u001b[0m\u001b[1;33m)\u001b[0m\u001b[1;33m\u001b[0m\u001b[1;33m\u001b[0m\u001b[0m\n\u001b[0;32m      4\u001b[0m \u001b[0mprint\u001b[0m\u001b[1;33m(\u001b[0m\u001b[0mrrg_output2\u001b[0m\u001b[1;33m.\u001b[0m\u001b[0mshape\u001b[0m\u001b[1;33m)\u001b[0m\u001b[1;33m\u001b[0m\u001b[1;33m\u001b[0m\u001b[0m\n",
      "\u001b[1;32m~\\AppData\\Local\\Programs\\Python\\Python37\\lib\\site-packages\\keras\\utils\\traceback_utils.py\u001b[0m in \u001b[0;36merror_handler\u001b[1;34m(*args, **kwargs)\u001b[0m\n\u001b[0;32m     65\u001b[0m     \u001b[1;32mexcept\u001b[0m \u001b[0mException\u001b[0m \u001b[1;32mas\u001b[0m \u001b[0me\u001b[0m\u001b[1;33m:\u001b[0m  \u001b[1;31m# pylint: disable=broad-except\u001b[0m\u001b[1;33m\u001b[0m\u001b[1;33m\u001b[0m\u001b[0m\n\u001b[0;32m     66\u001b[0m       \u001b[0mfiltered_tb\u001b[0m \u001b[1;33m=\u001b[0m \u001b[0m_process_traceback_frames\u001b[0m\u001b[1;33m(\u001b[0m\u001b[0me\u001b[0m\u001b[1;33m.\u001b[0m\u001b[0m__traceback__\u001b[0m\u001b[1;33m)\u001b[0m\u001b[1;33m\u001b[0m\u001b[1;33m\u001b[0m\u001b[0m\n\u001b[1;32m---> 67\u001b[1;33m       \u001b[1;32mraise\u001b[0m \u001b[0me\u001b[0m\u001b[1;33m.\u001b[0m\u001b[0mwith_traceback\u001b[0m\u001b[1;33m(\u001b[0m\u001b[0mfiltered_tb\u001b[0m\u001b[1;33m)\u001b[0m \u001b[1;32mfrom\u001b[0m \u001b[1;32mNone\u001b[0m\u001b[1;33m\u001b[0m\u001b[1;33m\u001b[0m\u001b[0m\n\u001b[0m\u001b[0;32m     68\u001b[0m     \u001b[1;32mfinally\u001b[0m\u001b[1;33m:\u001b[0m\u001b[1;33m\u001b[0m\u001b[1;33m\u001b[0m\u001b[0m\n\u001b[0;32m     69\u001b[0m       \u001b[1;32mdel\u001b[0m \u001b[0mfiltered_tb\u001b[0m\u001b[1;33m\u001b[0m\u001b[1;33m\u001b[0m\u001b[0m\n",
      "\u001b[1;32md:\\GitHub\\gb3mppe\\test\\..\\lib\\models\\RRG.py\u001b[0m in \u001b[0;36mcall\u001b[1;34m(self, coordinates, adjacency, node_features, edge_features, joint_types)\u001b[0m\n\u001b[0;32m     41\u001b[0m         \u001b[0mx1\u001b[0m \u001b[1;33m=\u001b[0m \u001b[0mself\u001b[0m\u001b[1;33m.\u001b[0m\u001b[0mMaxPool_hid1\u001b[0m\u001b[1;33m(\u001b[0m\u001b[0mx1\u001b[0m\u001b[1;33m)\u001b[0m\u001b[1;33m\u001b[0m\u001b[1;33m\u001b[0m\u001b[0m\n\u001b[0;32m     42\u001b[0m         \u001b[0mx1\u001b[0m \u001b[1;33m=\u001b[0m \u001b[0mself\u001b[0m\u001b[1;33m.\u001b[0m\u001b[0mlinear_hid3\u001b[0m\u001b[1;33m(\u001b[0m\u001b[0mx1\u001b[0m\u001b[1;33m)\u001b[0m\u001b[1;33m\u001b[0m\u001b[1;33m\u001b[0m\u001b[0m\n\u001b[1;32m---> 43\u001b[1;33m         \u001b[0mx1\u001b[0m \u001b[1;33m=\u001b[0m \u001b[0mself\u001b[0m\u001b[1;33m.\u001b[0m\u001b[0mEdgeConv_hid1\u001b[0m\u001b[1;33m(\u001b[0m\u001b[0madjacency\u001b[0m\u001b[1;33m,\u001b[0m \u001b[0mx1\u001b[0m\u001b[1;33m)\u001b[0m\u001b[1;33m\u001b[0m\u001b[1;33m\u001b[0m\u001b[0m\n\u001b[0m\u001b[0;32m     44\u001b[0m         \u001b[0mEdgeConv1_ouput\u001b[0m \u001b[1;33m=\u001b[0m \u001b[0mx1\u001b[0m\u001b[1;33m\u001b[0m\u001b[1;33m\u001b[0m\u001b[0m\n\u001b[0;32m     45\u001b[0m         \u001b[0mx1\u001b[0m \u001b[1;33m=\u001b[0m \u001b[0mself\u001b[0m\u001b[1;33m.\u001b[0m\u001b[0mEdgeConv_hid2\u001b[0m\u001b[1;33m(\u001b[0m\u001b[0madjacency\u001b[0m\u001b[1;33m,\u001b[0m \u001b[0mx1\u001b[0m\u001b[1;33m)\u001b[0m\u001b[1;33m\u001b[0m\u001b[1;33m\u001b[0m\u001b[0m\n",
      "\u001b[1;32md:\\GitHub\\gb3mppe\\test\\..\\lib\\models\\layers.py\u001b[0m in \u001b[0;36mcall\u001b[1;34m(self, Adjacency, node_features)\u001b[0m\n\u001b[0;32m    103\u001b[0m                                          \u001b[0mreduction\u001b[0m\u001b[1;33m=\u001b[0m\u001b[1;34m'max'\u001b[0m\u001b[1;33m,\u001b[0m\u001b[1;33m\u001b[0m\u001b[1;33m\u001b[0m\u001b[0m\n\u001b[0;32m    104\u001b[0m                                          \u001b[0medge_function_kwargs\u001b[0m\u001b[1;33m=\u001b[0m\u001b[1;33m{\u001b[0m\u001b[1;33m}\u001b[0m\u001b[1;33m,\u001b[0m\u001b[1;33m\u001b[0m\u001b[1;33m\u001b[0m\u001b[0m\n\u001b[1;32m--> 105\u001b[1;33m                                          name='edge_conv')\n\u001b[0m\u001b[0;32m    106\u001b[0m \u001b[1;33m\u001b[0m\u001b[0m\n\u001b[0;32m    107\u001b[0m \u001b[1;33m\u001b[0m\u001b[0m\n",
      "\u001b[1;32m~\\AppData\\Local\\Programs\\Python\\Python37\\lib\\site-packages\\tensorflow_graphics\\geometry\\convolution\\graph_convolution.py\u001b[0m in \u001b[0;36medge_convolution_template\u001b[1;34m(data, neighbors, sizes, edge_function, reduction, edge_function_kwargs, name)\u001b[0m\n\u001b[0;32m    241\u001b[0m \u001b[1;33m\u001b[0m\u001b[0m\n\u001b[0;32m    242\u001b[0m     \u001b[0mdata_ndims\u001b[0m \u001b[1;33m=\u001b[0m \u001b[0mdata\u001b[0m\u001b[1;33m.\u001b[0m\u001b[0mshape\u001b[0m\u001b[1;33m.\u001b[0m\u001b[0mndims\u001b[0m\u001b[1;33m\u001b[0m\u001b[1;33m\u001b[0m\u001b[0m\n\u001b[1;32m--> 243\u001b[1;33m     \u001b[0mutils\u001b[0m\u001b[1;33m.\u001b[0m\u001b[0mcheck_valid_graph_convolution_input\u001b[0m\u001b[1;33m(\u001b[0m\u001b[0mdata\u001b[0m\u001b[1;33m,\u001b[0m \u001b[0mneighbors\u001b[0m\u001b[1;33m,\u001b[0m \u001b[0msizes\u001b[0m\u001b[1;33m)\u001b[0m\u001b[1;33m\u001b[0m\u001b[1;33m\u001b[0m\u001b[0m\n\u001b[0m\u001b[0;32m    244\u001b[0m \u001b[1;33m\u001b[0m\u001b[0m\n\u001b[0;32m    245\u001b[0m     \u001b[1;31m# Flatten the batch dimensions and remove any vertex padding.\u001b[0m\u001b[1;33m\u001b[0m\u001b[1;33m\u001b[0m\u001b[1;33m\u001b[0m\u001b[0m\n",
      "\u001b[1;32m~\\AppData\\Local\\Programs\\Python\\Python37\\lib\\site-packages\\tensorflow_graphics\\geometry\\convolution\\utils.py\u001b[0m in \u001b[0;36mcheck_valid_graph_convolution_input\u001b[1;34m(data, neighbors, sizes)\u001b[0m\n\u001b[0;32m     66\u001b[0m   \u001b[0mshape\u001b[0m\u001b[1;33m.\u001b[0m\u001b[0mcheck_static\u001b[0m\u001b[1;33m(\u001b[0m\u001b[0mtensor\u001b[0m\u001b[1;33m=\u001b[0m\u001b[0mdata\u001b[0m\u001b[1;33m,\u001b[0m \u001b[0mtensor_name\u001b[0m\u001b[1;33m=\u001b[0m\u001b[1;34m\"data\"\u001b[0m\u001b[1;33m,\u001b[0m \u001b[0mhas_rank_greater_than\u001b[0m\u001b[1;33m=\u001b[0m\u001b[1;36m1\u001b[0m\u001b[1;33m)\u001b[0m\u001b[1;33m\u001b[0m\u001b[1;33m\u001b[0m\u001b[0m\n\u001b[0;32m     67\u001b[0m   shape.check_static(\n\u001b[1;32m---> 68\u001b[1;33m       tensor=neighbors, tensor_name=\"neighbors\", has_rank=data_ndims)\n\u001b[0m\u001b[0;32m     69\u001b[0m   \u001b[1;32mif\u001b[0m \u001b[1;32mnot\u001b[0m \u001b[0m_is_dynamic_shape\u001b[0m\u001b[1;33m(\u001b[0m\u001b[0mtensors\u001b[0m\u001b[1;33m=\u001b[0m\u001b[1;33m(\u001b[0m\u001b[0mdata\u001b[0m\u001b[1;33m,\u001b[0m \u001b[0mneighbors\u001b[0m\u001b[1;33m)\u001b[0m\u001b[1;33m)\u001b[0m\u001b[1;33m:\u001b[0m\u001b[1;33m\u001b[0m\u001b[1;33m\u001b[0m\u001b[0m\n\u001b[0;32m     70\u001b[0m     shape.compare_dimensions(\n",
      "\u001b[1;32m~\\AppData\\Local\\Programs\\Python\\Python37\\lib\\site-packages\\tensorflow_graphics\\util\\shape.py\u001b[0m in \u001b[0;36mcheck_static\u001b[1;34m(tensor, has_rank, has_rank_greater_than, has_rank_less_than, has_dim_equals, has_dim_greater_than, has_dim_less_than, tensor_name)\u001b[0m\n\u001b[0;32m    191\u001b[0m     \u001b[0m_check_type\u001b[0m\u001b[1;33m(\u001b[0m\u001b[0mhas_rank\u001b[0m\u001b[1;33m,\u001b[0m \u001b[1;34m'has_rank'\u001b[0m\u001b[1;33m,\u001b[0m \u001b[0mint\u001b[0m\u001b[1;33m)\u001b[0m\u001b[1;33m\u001b[0m\u001b[1;33m\u001b[0m\u001b[0m\n\u001b[0;32m    192\u001b[0m     \u001b[1;32mif\u001b[0m \u001b[0mrank\u001b[0m \u001b[1;33m!=\u001b[0m \u001b[0mhas_rank\u001b[0m\u001b[1;33m:\u001b[0m\u001b[1;33m\u001b[0m\u001b[1;33m\u001b[0m\u001b[0m\n\u001b[1;32m--> 193\u001b[1;33m       \u001b[0m_raise_value_error_for_rank\u001b[0m\u001b[1;33m(\u001b[0m\u001b[0mhas_rank\u001b[0m\u001b[1;33m,\u001b[0m \u001b[1;34m'of'\u001b[0m\u001b[1;33m)\u001b[0m\u001b[1;33m\u001b[0m\u001b[1;33m\u001b[0m\u001b[0m\n\u001b[0m\u001b[0;32m    194\u001b[0m   \u001b[1;32mif\u001b[0m \u001b[0mhas_rank_greater_than\u001b[0m \u001b[1;32mis\u001b[0m \u001b[1;32mnot\u001b[0m \u001b[1;32mNone\u001b[0m\u001b[1;33m:\u001b[0m\u001b[1;33m\u001b[0m\u001b[1;33m\u001b[0m\u001b[0m\n\u001b[0;32m    195\u001b[0m     \u001b[0m_check_type\u001b[0m\u001b[1;33m(\u001b[0m\u001b[0mhas_rank_greater_than\u001b[0m\u001b[1;33m,\u001b[0m \u001b[1;34m'has_rank_greater_than'\u001b[0m\u001b[1;33m,\u001b[0m \u001b[0mint\u001b[0m\u001b[1;33m)\u001b[0m\u001b[1;33m\u001b[0m\u001b[1;33m\u001b[0m\u001b[0m\n",
      "\u001b[1;32m~\\AppData\\Local\\Programs\\Python\\Python37\\lib\\site-packages\\tensorflow_graphics\\util\\shape.py\u001b[0m in \u001b[0;36m_raise_value_error_for_rank\u001b[1;34m(variable, error_msg)\u001b[0m\n\u001b[0;32m    181\u001b[0m     raise ValueError(\n\u001b[0;32m    182\u001b[0m         '{} must have a rank {} {}, but it has rank {} and shape {}'.format(\n\u001b[1;32m--> 183\u001b[1;33m             tensor_name, error_msg, variable, rank, tensor.shape.as_list()))\n\u001b[0m\u001b[0;32m    184\u001b[0m \u001b[1;33m\u001b[0m\u001b[0m\n\u001b[0;32m    185\u001b[0m   \u001b[1;32mdef\u001b[0m \u001b[0m_raise_value_error_for_dim\u001b[0m\u001b[1;33m(\u001b[0m\u001b[0mtensor_name\u001b[0m\u001b[1;33m,\u001b[0m \u001b[0merror_msg\u001b[0m\u001b[1;33m,\u001b[0m \u001b[0maxis\u001b[0m\u001b[1;33m,\u001b[0m \u001b[0mvalue\u001b[0m\u001b[1;33m)\u001b[0m\u001b[1;33m:\u001b[0m\u001b[1;33m\u001b[0m\u001b[1;33m\u001b[0m\u001b[0m\n",
      "\u001b[1;31mValueError\u001b[0m: Exception encountered when calling layer \"edge_conv_3\" (type EdgeConv).\n\nneighbors must have a rank of 2, but it has rank 3 and shape [16, 12, 12]\n\nCall arguments received:\n  • Adjacency=<tensorflow.python.framework.sparse_tensor.SparseTensor object at 0x000001F7CEEE7488>\n  • node_features=tf.Tensor(shape=(16, 512), dtype=float32)"
     ]
    }
   ],
   "source": [
    "# RRG\n",
    "rrg_output1, rrg_output2 = rrg_model(coordinates, adjacency, node_features, edge_features, joint_types)\n",
    "print(rrg_output1.shape)\n",
    "print(rrg_output2.shape)"
   ]
  }
 ],
 "metadata": {
  "interpreter": {
   "hash": "7b4b4feff2f24a0f0a34464dbe537a36fda679851528fb8735cb41fa49dffb2d"
  },
  "kernelspec": {
   "display_name": "Python 3",
   "language": "python",
   "name": "python3"
  },
  "language_info": {
   "codemirror_mode": {
    "name": "ipython",
    "version": 3
   },
   "file_extension": ".py",
   "mimetype": "text/x-python",
   "name": "python",
   "nbconvert_exporter": "python",
   "pygments_lexer": "ipython3",
   "version": "3.8.8"
  }
 },
 "nbformat": 4,
 "nbformat_minor": 2
}
