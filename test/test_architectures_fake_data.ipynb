{
 "cells": [
  {
   "cell_type": "code",
   "execution_count": 1,
   "metadata": {},
   "outputs": [],
   "source": [
    "import _init_paths\n",
    "import tensorflow as tf\n",
    "from dataset.Dummy import Dummy\n",
    "from models.CRG import CRG\n",
    "from models.MMG import MMG\n",
    "from models.RRG import RRG"
   ]
  },
  {
   "cell_type": "markdown",
   "metadata": {},
   "source": [
    "##### Test forward pass with dummy dataset"
   ]
  },
  {
   "cell_type": "code",
   "execution_count": null,
   "metadata": {},
   "outputs": [],
   "source": [
    "# Dataset parameters\n",
    "n_samples = 16\n",
    "n_nodes = 12\n",
    "node_feat_dim = 8\n",
    "edge_feat_dim = 4"
   ]
  },
  {
   "cell_type": "code",
   "execution_count": null,
   "metadata": {},
   "outputs": [
    {
     "name": "stdout",
     "output_type": "stream",
     "text": [
      "adjaceny shape: (16, 12, 12)\n",
      "node features shape: (16, 12, 8)\n",
      "edge features shape: (16, 12, 12, 4)\n",
      "coordinates shape: (16, 12, 3)\n",
      "center scores shape: (16, 12, 1)\n",
      "joint types  shape: (16, 12, 15)\n"
     ]
    }
   ],
   "source": [
    "# Dataset\n",
    "dummy = Dummy(n_samples, n_nodes, node_feat_dim, edge_feat_dim)\n",
    "dummy_dataset = dummy._get_db()\n",
    "adjacency = dummy_dataset['adjacency']\n",
    "node_features = dummy_dataset['node_features']\n",
    "edge_features = dummy_dataset['edge_features']\n",
    "coordinates = dummy_dataset['coordinates']\n",
    "center_scores = dummy_dataset['center_scores']\n",
    "joint_types = dummy_dataset['joint_types']\n",
    "print('adjaceny shape:', adjacency.shape)\n",
    "print('node features shape:', node_features.shape)\n",
    "print('edge features shape:', edge_features.shape)\n",
    "print('coordinates shape:', coordinates.shape)\n",
    "print('center scores shape:', center_scores.shape)\n",
    "print('joint types  shape:', joint_types.shape)"
   ]
  },
  {
   "cell_type": "code",
   "execution_count": null,
   "metadata": {},
   "outputs": [],
   "source": [
    "# Architecture parameters\n",
    "# MMG\n",
    "mmg_hidden_dim = [256, 128, 64]\n",
    "mmg_output_dim = 1\n",
    "# CRG\n",
    "crg_mlp_dim =  [256, 256, 256]\n",
    "crg_hidden_dim = [32, 32, 128]\n",
    "crg_output_dim = 1\n",
    "# RRG\n",
    "rrg_mlp_dim = [512, 1024, 256, 256, 256]\n",
    "rrg_hidden_dim = [32, 32, 512, 128, 128]\n",
    "rrg_output_dim = [3, 1]\n"
   ]
  },
  {
   "cell_type": "code",
   "execution_count": null,
   "metadata": {},
   "outputs": [],
   "source": [
    "# Architecture Init\n",
    "mmg_model = MMG(mmg_hidden_dim, mmg_output_dim)\n",
    "crg_model = CRG(crg_mlp_dim, crg_hidden_dim, crg_output_dim)\n",
    "rrg_model = RRG(rrg_mlp_dim, rrg_hidden_dim, rrg_output_dim)"
   ]
  },
  {
   "cell_type": "code",
   "execution_count": null,
   "metadata": {},
   "outputs": [
    {
     "name": "stdout",
     "output_type": "stream",
     "text": [
      "(16, 12, 1)\n"
     ]
    }
   ],
   "source": [
    "# Forward Pass\n",
    "# MMG\n",
    "mmg_output = mmg_model(adjacency, node_features, edge_features)\n",
    "output_graphs = tf.reshape(mmg_output, adjacency.shape)\n",
    "print(mmg_output.shape)\n",
    "print(output_graphs.shape)\n",
    "print(output_graphs)"
   ]
  },
  {
   "cell_type": "code",
   "execution_count": null,
   "metadata": {},
   "outputs": [
    {
     "name": "stdout",
     "output_type": "stream",
     "text": [
      "(16, 12, 1)\n"
     ]
    }
   ],
   "source": [
    "# CRG\n",
    "crg_output = crg_model(coordinates, adjacency, node_features, center_scores)\n",
    "print(crg_output.shape)"
   ]
  },
  {
   "cell_type": "code",
   "execution_count": null,
   "metadata": {},
   "outputs": [
    {
     "ename": "ValueError",
     "evalue": "Exception encountered when calling layer \"edge_conv_3\" (type EdgeConv).\n\nneighbors must have a rank of 2, but it has rank 3 and shape [16, 12, 12]\n\nCall arguments received:\n  • Adjacency=<tensorflow.python.framework.sparse_tensor.SparseTensor object at 0x000001F7CEEE7488>\n  • node_features=tf.Tensor(shape=(16, 512), dtype=float32)",
     "output_type": "error",
     "traceback": [
      "\u001b[1;31m---------------------------------------------------------------------------\u001b[0m",
      "\u001b[1;31mValueError\u001b[0m                                Traceback (most recent call last)",
      "\u001b[1;32m~\\AppData\\Local\\Temp/ipykernel_9224/3024744947.py\u001b[0m in \u001b[0;36m<module>\u001b[1;34m\u001b[0m\n\u001b[0;32m      1\u001b[0m \u001b[1;31m# RRG\u001b[0m\u001b[1;33m\u001b[0m\u001b[1;33m\u001b[0m\u001b[1;33m\u001b[0m\u001b[0m\n\u001b[1;32m----> 2\u001b[1;33m \u001b[0mrrg_output1\u001b[0m\u001b[1;33m,\u001b[0m \u001b[0mrrg_output2\u001b[0m \u001b[1;33m=\u001b[0m \u001b[0mrrg_model\u001b[0m\u001b[1;33m(\u001b[0m\u001b[0mcoordinates\u001b[0m\u001b[1;33m,\u001b[0m \u001b[0madjacency\u001b[0m\u001b[1;33m,\u001b[0m \u001b[0mnode_features\u001b[0m\u001b[1;33m,\u001b[0m \u001b[0medge_features\u001b[0m\u001b[1;33m,\u001b[0m \u001b[0mjoint_types\u001b[0m\u001b[1;33m)\u001b[0m\u001b[1;33m\u001b[0m\u001b[1;33m\u001b[0m\u001b[0m\n\u001b[0m\u001b[0;32m      3\u001b[0m \u001b[0mprint\u001b[0m\u001b[1;33m(\u001b[0m\u001b[0mrrg_output1\u001b[0m\u001b[1;33m.\u001b[0m\u001b[0mshape\u001b[0m\u001b[1;33m)\u001b[0m\u001b[1;33m\u001b[0m\u001b[1;33m\u001b[0m\u001b[0m\n\u001b[0;32m      4\u001b[0m \u001b[0mprint\u001b[0m\u001b[1;33m(\u001b[0m\u001b[0mrrg_output2\u001b[0m\u001b[1;33m.\u001b[0m\u001b[0mshape\u001b[0m\u001b[1;33m)\u001b[0m\u001b[1;33m\u001b[0m\u001b[1;33m\u001b[0m\u001b[0m\n",
      "\u001b[1;32m~\\AppData\\Local\\Programs\\Python\\Python37\\lib\\site-packages\\keras\\utils\\traceback_utils.py\u001b[0m in \u001b[0;36merror_handler\u001b[1;34m(*args, **kwargs)\u001b[0m\n\u001b[0;32m     65\u001b[0m     \u001b[1;32mexcept\u001b[0m \u001b[0mException\u001b[0m \u001b[1;32mas\u001b[0m \u001b[0me\u001b[0m\u001b[1;33m:\u001b[0m  \u001b[1;31m# pylint: disable=broad-except\u001b[0m\u001b[1;33m\u001b[0m\u001b[1;33m\u001b[0m\u001b[0m\n\u001b[0;32m     66\u001b[0m       \u001b[0mfiltered_tb\u001b[0m \u001b[1;33m=\u001b[0m \u001b[0m_process_traceback_frames\u001b[0m\u001b[1;33m(\u001b[0m\u001b[0me\u001b[0m\u001b[1;33m.\u001b[0m\u001b[0m__traceback__\u001b[0m\u001b[1;33m)\u001b[0m\u001b[1;33m\u001b[0m\u001b[1;33m\u001b[0m\u001b[0m\n\u001b[1;32m---> 67\u001b[1;33m       \u001b[1;32mraise\u001b[0m \u001b[0me\u001b[0m\u001b[1;33m.\u001b[0m\u001b[0mwith_traceback\u001b[0m\u001b[1;33m(\u001b[0m\u001b[0mfiltered_tb\u001b[0m\u001b[1;33m)\u001b[0m \u001b[1;32mfrom\u001b[0m \u001b[1;32mNone\u001b[0m\u001b[1;33m\u001b[0m\u001b[1;33m\u001b[0m\u001b[0m\n\u001b[0m\u001b[0;32m     68\u001b[0m     \u001b[1;32mfinally\u001b[0m\u001b[1;33m:\u001b[0m\u001b[1;33m\u001b[0m\u001b[1;33m\u001b[0m\u001b[0m\n\u001b[0;32m     69\u001b[0m       \u001b[1;32mdel\u001b[0m \u001b[0mfiltered_tb\u001b[0m\u001b[1;33m\u001b[0m\u001b[1;33m\u001b[0m\u001b[0m\n",
      "\u001b[1;32md:\\GitHub\\gb3mppe\\test\\..\\lib\\models\\RRG.py\u001b[0m in \u001b[0;36mcall\u001b[1;34m(self, coordinates, adjacency, node_features, edge_features, joint_types)\u001b[0m\n\u001b[0;32m     41\u001b[0m         \u001b[0mx1\u001b[0m \u001b[1;33m=\u001b[0m \u001b[0mself\u001b[0m\u001b[1;33m.\u001b[0m\u001b[0mMaxPool_hid1\u001b[0m\u001b[1;33m(\u001b[0m\u001b[0mx1\u001b[0m\u001b[1;33m)\u001b[0m\u001b[1;33m\u001b[0m\u001b[1;33m\u001b[0m\u001b[0m\n\u001b[0;32m     42\u001b[0m         \u001b[0mx1\u001b[0m \u001b[1;33m=\u001b[0m \u001b[0mself\u001b[0m\u001b[1;33m.\u001b[0m\u001b[0mlinear_hid3\u001b[0m\u001b[1;33m(\u001b[0m\u001b[0mx1\u001b[0m\u001b[1;33m)\u001b[0m\u001b[1;33m\u001b[0m\u001b[1;33m\u001b[0m\u001b[0m\n\u001b[1;32m---> 43\u001b[1;33m         \u001b[0mx1\u001b[0m \u001b[1;33m=\u001b[0m \u001b[0mself\u001b[0m\u001b[1;33m.\u001b[0m\u001b[0mEdgeConv_hid1\u001b[0m\u001b[1;33m(\u001b[0m\u001b[0madjacency\u001b[0m\u001b[1;33m,\u001b[0m \u001b[0mx1\u001b[0m\u001b[1;33m)\u001b[0m\u001b[1;33m\u001b[0m\u001b[1;33m\u001b[0m\u001b[0m\n\u001b[0m\u001b[0;32m     44\u001b[0m         \u001b[0mEdgeConv1_ouput\u001b[0m \u001b[1;33m=\u001b[0m \u001b[0mx1\u001b[0m\u001b[1;33m\u001b[0m\u001b[1;33m\u001b[0m\u001b[0m\n\u001b[0;32m     45\u001b[0m         \u001b[0mx1\u001b[0m \u001b[1;33m=\u001b[0m \u001b[0mself\u001b[0m\u001b[1;33m.\u001b[0m\u001b[0mEdgeConv_hid2\u001b[0m\u001b[1;33m(\u001b[0m\u001b[0madjacency\u001b[0m\u001b[1;33m,\u001b[0m \u001b[0mx1\u001b[0m\u001b[1;33m)\u001b[0m\u001b[1;33m\u001b[0m\u001b[1;33m\u001b[0m\u001b[0m\n",
      "\u001b[1;32md:\\GitHub\\gb3mppe\\test\\..\\lib\\models\\layers.py\u001b[0m in \u001b[0;36mcall\u001b[1;34m(self, Adjacency, node_features)\u001b[0m\n\u001b[0;32m    103\u001b[0m                                          \u001b[0mreduction\u001b[0m\u001b[1;33m=\u001b[0m\u001b[1;34m'max'\u001b[0m\u001b[1;33m,\u001b[0m\u001b[1;33m\u001b[0m\u001b[1;33m\u001b[0m\u001b[0m\n\u001b[0;32m    104\u001b[0m                                          \u001b[0medge_function_kwargs\u001b[0m\u001b[1;33m=\u001b[0m\u001b[1;33m{\u001b[0m\u001b[1;33m}\u001b[0m\u001b[1;33m,\u001b[0m\u001b[1;33m\u001b[0m\u001b[1;33m\u001b[0m\u001b[0m\n\u001b[1;32m--> 105\u001b[1;33m                                          name='edge_conv')\n\u001b[0m\u001b[0;32m    106\u001b[0m \u001b[1;33m\u001b[0m\u001b[0m\n\u001b[0;32m    107\u001b[0m \u001b[1;33m\u001b[0m\u001b[0m\n",
      "\u001b[1;32m~\\AppData\\Local\\Programs\\Python\\Python37\\lib\\site-packages\\tensorflow_graphics\\geometry\\convolution\\graph_convolution.py\u001b[0m in \u001b[0;36medge_convolution_template\u001b[1;34m(data, neighbors, sizes, edge_function, reduction, edge_function_kwargs, name)\u001b[0m\n\u001b[0;32m    241\u001b[0m \u001b[1;33m\u001b[0m\u001b[0m\n\u001b[0;32m    242\u001b[0m     \u001b[0mdata_ndims\u001b[0m \u001b[1;33m=\u001b[0m \u001b[0mdata\u001b[0m\u001b[1;33m.\u001b[0m\u001b[0mshape\u001b[0m\u001b[1;33m.\u001b[0m\u001b[0mndims\u001b[0m\u001b[1;33m\u001b[0m\u001b[1;33m\u001b[0m\u001b[0m\n\u001b[1;32m--> 243\u001b[1;33m     \u001b[0mutils\u001b[0m\u001b[1;33m.\u001b[0m\u001b[0mcheck_valid_graph_convolution_input\u001b[0m\u001b[1;33m(\u001b[0m\u001b[0mdata\u001b[0m\u001b[1;33m,\u001b[0m \u001b[0mneighbors\u001b[0m\u001b[1;33m,\u001b[0m \u001b[0msizes\u001b[0m\u001b[1;33m)\u001b[0m\u001b[1;33m\u001b[0m\u001b[1;33m\u001b[0m\u001b[0m\n\u001b[0m\u001b[0;32m    244\u001b[0m \u001b[1;33m\u001b[0m\u001b[0m\n\u001b[0;32m    245\u001b[0m     \u001b[1;31m# Flatten the batch dimensions and remove any vertex padding.\u001b[0m\u001b[1;33m\u001b[0m\u001b[1;33m\u001b[0m\u001b[1;33m\u001b[0m\u001b[0m\n",
      "\u001b[1;32m~\\AppData\\Local\\Programs\\Python\\Python37\\lib\\site-packages\\tensorflow_graphics\\geometry\\convolution\\utils.py\u001b[0m in \u001b[0;36mcheck_valid_graph_convolution_input\u001b[1;34m(data, neighbors, sizes)\u001b[0m\n\u001b[0;32m     66\u001b[0m   \u001b[0mshape\u001b[0m\u001b[1;33m.\u001b[0m\u001b[0mcheck_static\u001b[0m\u001b[1;33m(\u001b[0m\u001b[0mtensor\u001b[0m\u001b[1;33m=\u001b[0m\u001b[0mdata\u001b[0m\u001b[1;33m,\u001b[0m \u001b[0mtensor_name\u001b[0m\u001b[1;33m=\u001b[0m\u001b[1;34m\"data\"\u001b[0m\u001b[1;33m,\u001b[0m \u001b[0mhas_rank_greater_than\u001b[0m\u001b[1;33m=\u001b[0m\u001b[1;36m1\u001b[0m\u001b[1;33m)\u001b[0m\u001b[1;33m\u001b[0m\u001b[1;33m\u001b[0m\u001b[0m\n\u001b[0;32m     67\u001b[0m   shape.check_static(\n\u001b[1;32m---> 68\u001b[1;33m       tensor=neighbors, tensor_name=\"neighbors\", has_rank=data_ndims)\n\u001b[0m\u001b[0;32m     69\u001b[0m   \u001b[1;32mif\u001b[0m \u001b[1;32mnot\u001b[0m \u001b[0m_is_dynamic_shape\u001b[0m\u001b[1;33m(\u001b[0m\u001b[0mtensors\u001b[0m\u001b[1;33m=\u001b[0m\u001b[1;33m(\u001b[0m\u001b[0mdata\u001b[0m\u001b[1;33m,\u001b[0m \u001b[0mneighbors\u001b[0m\u001b[1;33m)\u001b[0m\u001b[1;33m)\u001b[0m\u001b[1;33m:\u001b[0m\u001b[1;33m\u001b[0m\u001b[1;33m\u001b[0m\u001b[0m\n\u001b[0;32m     70\u001b[0m     shape.compare_dimensions(\n",
      "\u001b[1;32m~\\AppData\\Local\\Programs\\Python\\Python37\\lib\\site-packages\\tensorflow_graphics\\util\\shape.py\u001b[0m in \u001b[0;36mcheck_static\u001b[1;34m(tensor, has_rank, has_rank_greater_than, has_rank_less_than, has_dim_equals, has_dim_greater_than, has_dim_less_than, tensor_name)\u001b[0m\n\u001b[0;32m    191\u001b[0m     \u001b[0m_check_type\u001b[0m\u001b[1;33m(\u001b[0m\u001b[0mhas_rank\u001b[0m\u001b[1;33m,\u001b[0m \u001b[1;34m'has_rank'\u001b[0m\u001b[1;33m,\u001b[0m \u001b[0mint\u001b[0m\u001b[1;33m)\u001b[0m\u001b[1;33m\u001b[0m\u001b[1;33m\u001b[0m\u001b[0m\n\u001b[0;32m    192\u001b[0m     \u001b[1;32mif\u001b[0m \u001b[0mrank\u001b[0m \u001b[1;33m!=\u001b[0m \u001b[0mhas_rank\u001b[0m\u001b[1;33m:\u001b[0m\u001b[1;33m\u001b[0m\u001b[1;33m\u001b[0m\u001b[0m\n\u001b[1;32m--> 193\u001b[1;33m       \u001b[0m_raise_value_error_for_rank\u001b[0m\u001b[1;33m(\u001b[0m\u001b[0mhas_rank\u001b[0m\u001b[1;33m,\u001b[0m \u001b[1;34m'of'\u001b[0m\u001b[1;33m)\u001b[0m\u001b[1;33m\u001b[0m\u001b[1;33m\u001b[0m\u001b[0m\n\u001b[0m\u001b[0;32m    194\u001b[0m   \u001b[1;32mif\u001b[0m \u001b[0mhas_rank_greater_than\u001b[0m \u001b[1;32mis\u001b[0m \u001b[1;32mnot\u001b[0m \u001b[1;32mNone\u001b[0m\u001b[1;33m:\u001b[0m\u001b[1;33m\u001b[0m\u001b[1;33m\u001b[0m\u001b[0m\n\u001b[0;32m    195\u001b[0m     \u001b[0m_check_type\u001b[0m\u001b[1;33m(\u001b[0m\u001b[0mhas_rank_greater_than\u001b[0m\u001b[1;33m,\u001b[0m \u001b[1;34m'has_rank_greater_than'\u001b[0m\u001b[1;33m,\u001b[0m \u001b[0mint\u001b[0m\u001b[1;33m)\u001b[0m\u001b[1;33m\u001b[0m\u001b[1;33m\u001b[0m\u001b[0m\n",
      "\u001b[1;32m~\\AppData\\Local\\Programs\\Python\\Python37\\lib\\site-packages\\tensorflow_graphics\\util\\shape.py\u001b[0m in \u001b[0;36m_raise_value_error_for_rank\u001b[1;34m(variable, error_msg)\u001b[0m\n\u001b[0;32m    181\u001b[0m     raise ValueError(\n\u001b[0;32m    182\u001b[0m         '{} must have a rank {} {}, but it has rank {} and shape {}'.format(\n\u001b[1;32m--> 183\u001b[1;33m             tensor_name, error_msg, variable, rank, tensor.shape.as_list()))\n\u001b[0m\u001b[0;32m    184\u001b[0m \u001b[1;33m\u001b[0m\u001b[0m\n\u001b[0;32m    185\u001b[0m   \u001b[1;32mdef\u001b[0m \u001b[0m_raise_value_error_for_dim\u001b[0m\u001b[1;33m(\u001b[0m\u001b[0mtensor_name\u001b[0m\u001b[1;33m,\u001b[0m \u001b[0merror_msg\u001b[0m\u001b[1;33m,\u001b[0m \u001b[0maxis\u001b[0m\u001b[1;33m,\u001b[0m \u001b[0mvalue\u001b[0m\u001b[1;33m)\u001b[0m\u001b[1;33m:\u001b[0m\u001b[1;33m\u001b[0m\u001b[1;33m\u001b[0m\u001b[0m\n",
      "\u001b[1;31mValueError\u001b[0m: Exception encountered when calling layer \"edge_conv_3\" (type EdgeConv).\n\nneighbors must have a rank of 2, but it has rank 3 and shape [16, 12, 12]\n\nCall arguments received:\n  • Adjacency=<tensorflow.python.framework.sparse_tensor.SparseTensor object at 0x000001F7CEEE7488>\n  • node_features=tf.Tensor(shape=(16, 512), dtype=float32)"
     ]
    }
   ],
   "source": [
    "# RRG\n",
    "rrg_output1, rrg_output2 = rrg_model(coordinates, adjacency, node_features, edge_features, joint_types)\n",
    "print(rrg_output1.shape)\n",
    "print(rrg_output2.shape)"
   ]
  }
 ],
 "metadata": {
  "interpreter": {
   "hash": "7b4b4feff2f24a0f0a34464dbe537a36fda679851528fb8735cb41fa49dffb2d"
  },
  "kernelspec": {
   "display_name": "Python 3.8.8 64-bit ('base': conda)",
   "language": "python",
   "name": "python3"
  },
  "language_info": {
   "codemirror_mode": {
    "name": "ipython",
    "version": 3
   },
   "file_extension": ".py",
   "mimetype": "text/x-python",
   "name": "python",
   "nbconvert_exporter": "python",
   "pygments_lexer": "ipython3",
   "version": "3.7.9"
  },
  "orig_nbformat": 4
 },
 "nbformat": 4,
 "nbformat_minor": 2
}
