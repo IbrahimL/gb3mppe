{
 "cells": [
  {
   "cell_type": "code",
   "execution_count": 1,
   "metadata": {},
   "outputs": [
    {
     "name": "stderr",
     "output_type": "stream",
     "text": [
      "Warning: To use the exr data format, please install the OpenEXR package following the instructions detailed in the README at github.com/tensorflow/graphics.\n",
      "Warning: To use the threejs_vizualization, please install the colabtools package following the instructions detailed in the README at github.com/tensorflow/graphics.\n"
     ]
    }
   ],
   "source": [
    "import _init_paths\n",
    "from models.CRG import CRG\n",
    "from models.MMG import MMG\n",
    "from models.RRG import RRG\n",
    "from dataset.Dummy import Dummy"
   ]
  },
  {
   "cell_type": "markdown",
   "metadata": {},
   "source": [
    "##### Test forward pass with dummy dataset"
   ]
  },
  {
   "cell_type": "code",
   "execution_count": 2,
   "metadata": {},
   "outputs": [],
   "source": [
    "# Dataset parameters\n",
    "n_samples = 16\n",
    "n_nodes = 12\n",
    "node_feat_dim = 8\n",
    "edge_feat_dim = 4"
   ]
  },
  {
   "cell_type": "code",
   "execution_count": 3,
   "metadata": {},
   "outputs": [
    {
     "name": "stdout",
     "output_type": "stream",
     "text": [
      "adjaceny shape: (16, 12, 12)\n",
      "node features shape: (16, 12, 8)\n",
      "edge features shape: (16, 12, 12, 4)\n"
     ]
    }
   ],
   "source": [
    "# Dataset\n",
    "dummy = Dummy(n_samples, n_nodes, node_feat_dim, edge_feat_dim)\n",
    "dummy_dataset = dummy._get_db()\n",
    "adjacency = dummy_dataset['adjacency']\n",
    "node_features = dummy_dataset['node_features']\n",
    "edge_features = dummy_dataset['edge_features']\n",
    "print('adjaceny shape:', adjacency.shape)\n",
    "print('node features shape:', node_features.shape)\n",
    "print('edge features shape:', edge_features.shape)"
   ]
  },
  {
   "cell_type": "code",
   "execution_count": 4,
   "metadata": {},
   "outputs": [],
   "source": [
    "# Architecture parameters\n",
    "# MMG\n",
    "mmg_hidden_dim = [256, 128, 64]\n",
    "mmg_output_dim = 1\n",
    "# CRG\n",
    "crg_mlp_dim =  [256, 256, 256]\n",
    "crg_hidden_dim = [32, 32, 128]\n",
    "crg_output_dim = 1\n",
    "# RRG\n",
    "rrg_mlp_dim = [512, 1024, 256, 256, 256]\n",
    "rrg_hidden_dim = [32, 32, 512, 128, 128]\n",
    "rrg_output_dim = [3, 1]\n"
   ]
  },
  {
   "cell_type": "code",
   "execution_count": 5,
   "metadata": {},
   "outputs": [],
   "source": [
    "# Architecture Init\n",
    "mmg_model = MMG(mmg_hidden_dim, mmg_output_dim)\n",
    "crg_model = CRG(crg_mlp_dim, crg_hidden_dim, crg_output_dim)\n",
    "rrg_model = RRG(rrg_mlp_dim, rrg_hidden_dim, rrg_output_dim)"
   ]
  },
  {
   "cell_type": "code",
   "execution_count": null,
   "metadata": {},
   "outputs": [],
   "source": [
    "# Forward Pass\n",
    "mmg_output = mmg_model()"
   ]
  }
 ],
 "metadata": {
  "interpreter": {
   "hash": "7b4b4feff2f24a0f0a34464dbe537a36fda679851528fb8735cb41fa49dffb2d"
  },
  "kernelspec": {
   "display_name": "Python 3.8.8 64-bit ('base': conda)",
   "language": "python",
   "name": "python3"
  },
  "language_info": {
   "codemirror_mode": {
    "name": "ipython",
    "version": 3
   },
   "file_extension": ".py",
   "mimetype": "text/x-python",
   "name": "python",
   "nbconvert_exporter": "python",
   "pygments_lexer": "ipython3",
   "version": "3.7.9"
  },
  "orig_nbformat": 4
 },
 "nbformat": 4,
 "nbformat_minor": 2
}
