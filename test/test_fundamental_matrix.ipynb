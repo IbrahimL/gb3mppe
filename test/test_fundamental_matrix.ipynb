{
 "cells": [
  {
   "cell_type": "markdown",
   "id": "8a16a2f6",
   "metadata": {},
   "source": [
    "## Tensorflow"
   ]
  },
  {
   "cell_type": "code",
   "execution_count": 30,
   "id": "d279d9b3",
   "metadata": {},
   "outputs": [],
   "source": [
    "import numpy as np\n",
    "import torch\n",
    "import tensorflow as tf\n",
    "import torch.nn.functional\n"
   ]
  },
  {
   "cell_type": "markdown",
   "id": "ca4cd0d0",
   "metadata": {},
   "source": [
    "### Def des fonctions "
   ]
  },
  {
   "cell_type": "code",
   "execution_count": 5,
   "id": "6b6b8134",
   "metadata": {},
   "outputs": [],
   "source": [
    "def tf_convert_points_to_homogeneous(points):\n",
    "    \"\"\"Function that converts points from Euclidean to homogeneous space.\n",
    "\n",
    "    See :class:`~torchgeometry.ConvertPointsToHomogeneous` for details.\n",
    "\n",
    "    Examples::\n",
    "\n",
    "        >>> input = torch.rand(2, 4, 3)  # BxNx3\n",
    "        >>> output = tgm.convert_points_to_homogeneous(input)  # BxNx4\n",
    "    \"\"\"\n",
    "    if not tf.is_tensor(points):\n",
    "        raise TypeError(\"Input type is not a tf.Tensor. Got {}\".format(\n",
    "            type(points)))\n",
    "    if len(points.shape) < 2:\n",
    "        raise ValueError(\"Input must be at least a 2D tensor. Got {}\".format(\n",
    "            points.shape))\n",
    "    paddings = tf.constant([[0,0], [0,1]])\n",
    "    \n",
    "    return tf.pad(points, paddings, mode='CONSTANT', constant_values=1)\n",
    "\n",
    "\n",
    "def tf_symmetrical_epipolar_distance(pts1,pts2,Fm,  squared= True, eps = 1e-8) : \n",
    "    \"\"\"\n",
    "    Return symmetrical epipolar distance for correspondences given the fundamental matrix.\n",
    "\n",
    "    \"\"\"\n",
    "    \n",
    "    if not isinstance(Fm, tf.Tensor):\n",
    "        raise TypeError(f\"Fm type is not a torch.Tensor. Got {type(Fm)}\")\n",
    "\n",
    "    if (len(Fm.shape) != 3) or not Fm.shape[-2:] == (3, 3):\n",
    "        raise ValueError(f\"Fm must be a (*, 3, 3) tensor. Got {Fm.shape}\")\n",
    "\n",
    "        ###########Acompleter\n",
    "    if pts1.size(-1) == 2:\n",
    "        pts1 = convert_points_to_homogeneous(pts1)\n",
    "\n",
    "    if pts2.size(-1) == 2:\n",
    "        pts2 = convert_points_to_homogeneous(pts2)\n",
    "\n",
    "    # From Hartley and Zisserman, symmetric epipolar distance (11.10)\n",
    "    # sed = (x'^T F x) ** 2 /  (((Fx)_1**2) + (Fx)_2**2)) +  1/ (((F^Tx')_1**2) + (F^Tx')_2**2))\n",
    "    # Instead we can just transpose F once and switch the order of multiplication\n",
    "    \n",
    "    F_t = tf.transpose(Fm, perm=(0,2,1), conjugate=False, name='permute')\n",
    "    line1_in_2 = pts1 @ F_t\n",
    "    line2_in_1 = pts2 @ Fm\n",
    "\n",
    "    # numerator = (x'^T F x) ** 2\n",
    "    #numerator  = (pts2 * line1_in_2).sum(2).pow(2)\n",
    "    numerator  = tf.pow(tf.math.reduce_sum((pts2 * line1_in_2),2),2)\n",
    "\n",
    "\n",
    "    # denominator_inv =  1/ (((Fx)_1**2) + (Fx)_2**2)) +  1/ (((F^Tx')_1**2) + (F^Tx')_2**2))\n",
    "    denominator_inv = 1.0 / (line1_in_2[..., :2].norm(2, dim=2).pow(2)) + 1.0 / (\n",
    "        line2_in_1[..., :2].norm(2, dim=2).pow(2)\n",
    "    )\n",
    "    \n",
    "    denominator_inv = 1.0 / (tf.pow(tf.norm(line1_in_2[..., :2],axis=2),2)) + 1.0 / (\n",
    "        tf.pow(tf.norm(line2_in_1[..., :2],axis=2),2)\n",
    "    )\n",
    "    \n",
    "    out = numerator * denominator_inv\n",
    "    if squared:\n",
    "        return out\n",
    "    return tf.math.sqrt(out + eps)\n",
    "\n",
    "def fundamental_matrix_from_projections(P1, P2):\n",
    "    \"\"\"\n",
    "    Get the Fundamental matrix from Projection matrices.\n",
    "    Adapted from \n",
    "    [\n",
    "    https://kornia.readthedocs.io/en/latest/_modules/kornia/\n",
    "    geometry/epipolar/fundamental.html\n",
    "    ]\n",
    "    \"\"\"\n",
    "    if not (len(P1.shape) >= 2 and P1.shape[-2:] == (3, 4)):\n",
    "        raise AssertionError(P1.shape)\n",
    "    if not (len(P2.shape) >= 2 and P2.shape[-2:] == (3, 4)):\n",
    "        raise AssertionError(P2.shape)\n",
    "    if P1.shape[:-2] != P2.shape[:-2]:\n",
    "        raise AssertionError\n",
    "\n",
    "    def vstack(x, y):\n",
    "            return tf.concat([x,y], axis=0, name='concat')\n",
    "    X1 = P1[..., 1:, :]\n",
    "    X2 = vstack(P1[..., 2:3, :], P1[..., 0:1, :])\n",
    "    X3 = P1[..., :2, :]\n",
    "\n",
    "    Y1 = P2[..., 1:, :]\n",
    "    Y2 = vstack(P2[..., 2:3, :], P2[..., 0:1, :])\n",
    "    Y3 = P2[..., :2, :]\n",
    "\n",
    "    X1Y1, X2Y1, X3Y1 = vstack(X1, Y1), vstack(X2, Y1), vstack(X3, Y1)\n",
    "    X1Y2, X2Y2, X3Y2 = vstack(X1, Y2), vstack(X2, Y2), vstack(X3, Y2)\n",
    "    X1Y3, X2Y3, X3Y3 = vstack(X1, Y3), vstack(X2, Y3), vstack(X3, Y3)\n",
    "    F_vec = tf.concat(\n",
    "        [\n",
    "            tf.reshape(tf.linalg.det(X1Y1),shape=(-1,1)),\n",
    "            tf.reshape(tf.linalg.det(X2Y1),shape=(-1,1)),\n",
    "            tf.reshape(tf.linalg.det(X3Y1),shape=(-1,1)),\n",
    "            tf.reshape(tf.linalg.det(X1Y2),shape=(-1,1)),\n",
    "            tf.reshape(tf.linalg.det(X2Y2),shape=(-1,1)),\n",
    "            tf.reshape(tf.linalg.det(X3Y2),shape=(-1,1)),\n",
    "            tf.reshape(tf.linalg.det(X1Y3),shape=(-1,1)),\n",
    "            tf.reshape(tf.linalg.det(X2Y3),shape=(-1,1)),\n",
    "            tf.reshape(tf.linalg.det(X3Y3),shape=(-1,1)),\n",
    "        ],\n",
    "        axis=-1\n",
    "    )\n",
    "\n",
    "    return tf.reshape(F_vec,shape=(*P1.shape[:-2],3,3))\n"
   ]
  },
  {
   "cell_type": "markdown",
   "id": "fb726e4e",
   "metadata": {},
   "source": [
    "#### On prend deux matrices de projection de deux camera de Campus_seq et on calcule F\n"
   ]
  },
  {
   "cell_type": "code",
   "execution_count": 43,
   "id": "2f4669d6",
   "metadata": {},
   "outputs": [
    {
     "data": {
      "text/plain": [
       "array([[-1.20740205e+04,  1.59010288e+06, -1.49354128e+08],\n",
       "       [ 1.91498150e+06,  6.74619453e+04,  3.05496512e+08],\n",
       "       [-1.50978688e+08, -1.10211149e+09,  7.75774781e+10]], dtype=float32)"
      ]
     },
     "execution_count": 43,
     "metadata": {},
     "output_type": "execute_result"
    }
   ],
   "source": [
    "# Matrice 1\n",
    "P1t=tf.constant([[439.0,180.81,-26.946,185.95],[-5.3416,88.523,-450.95,1324],[0.0060594,0.99348,-0.11385,5.227]])\n",
    "# Matrice 2\n",
    "P2t=tf.constant([[162.36,-438.34,-17.508,3347.4],[73.3,-10.043,-443.34,1373.5],[0.99035,-0.047887,-0.13009,6.6849]])\n",
    "# Calcul de la matrice fondamentale\n",
    "ft=fundamental_matrix_from_projections(P1t,P2t)\n",
    "ft.numpy()"
   ]
  },
  {
   "cell_type": "markdown",
   "id": "d3d09d12",
   "metadata": {},
   "source": [
    "\n",
    "### On vérifie $x=PX$  \n",
    "avec X coord 3D et x sa projection 2D\n",
    "#### On choisit un point 3D et on cherche sa projection sur les deux cameras"
   ]
  },
  {
   "cell_type": "code",
   "execution_count": 51,
   "id": "2015fda8",
   "metadata": {},
   "outputs": [
    {
     "name": "stdout",
     "output_type": "stream",
     "text": [
      "tf.Tensor(\n",
      "[[219.86467]\n",
      " [157.15797]\n",
      " [  1.     ]], shape=(3, 1), dtype=float32)\n",
      "tf.Tensor(\n",
      "[[240.8366 ]\n",
      " [172.84128]\n",
      " [  1.     ]], shape=(3, 1), dtype=float32)\n"
     ]
    }
   ],
   "source": [
    "pt3Dt = tf.constant([[2.9872, 4.0063, 0.1581]])\n",
    "# passage en coord homogens (rajout d'un 1)\n",
    "pt3D_ht=tf_convert_points_to_homogeneous(pt3Dt)\n",
    "# projections\n",
    "# camera 2\n",
    "x2t=tf.matmul(P2t,tf.transpose(pt3D_ht, perm=(1,0)))\n",
    "x2t=x2t/x2t[2]\n",
    "print(x2t)\n",
    "# camera 1\n",
    "x1t=tf.matmul(P1t,tf.transpose(pt3D_ht, perm=(1,0)))\n",
    "x1t=x1t/x1t[2]\n",
    "print(x1t)\n"
   ]
  },
  {
   "cell_type": "markdown",
   "id": "fb61aaf0",
   "metadata": {},
   "source": [
    "#### Ces deux valeurs doivent être égales à [220,158,1] et [ 241  ,172,1]               (groudTruth de VoxelPose)"
   ]
  },
  {
   "cell_type": "markdown",
   "id": "1c364a21",
   "metadata": {},
   "source": [
    "### On vérifie $x^t F x' = 0$  \n",
    "avec x' et x deux projections 2D\n",
    "#### On choisit un point 3D et on cherche sa projection sur les deux cameras"
   ]
  },
  {
   "cell_type": "code",
   "execution_count": 52,
   "id": "77abf57c",
   "metadata": {},
   "outputs": [
    {
     "data": {
      "text/plain": [
       "array([[90112.]], dtype=float32)"
      ]
     },
     "execution_count": 52,
     "metadata": {},
     "output_type": "execute_result"
    }
   ],
   "source": [
    "tf.matmul(tf.matmul(tf.transpose(x2t, perm=(1,0)),ft),x1t).numpy()"
   ]
  },
  {
   "cell_type": "markdown",
   "id": "441ebd23",
   "metadata": {},
   "source": [
    "=> Why ?!"
   ]
  },
  {
   "cell_type": "markdown",
   "id": "9471a0d6",
   "metadata": {},
   "source": [
    "# Pytorch"
   ]
  },
  {
   "cell_type": "markdown",
   "id": "7b9cf12f",
   "metadata": {},
   "source": [
    "### Def des fonction"
   ]
  },
  {
   "cell_type": "code",
   "execution_count": 42,
   "id": "a67b07c5",
   "metadata": {},
   "outputs": [],
   "source": [
    "# Ici on compare la méthode implémentée sur tensorflow à la méthode déja existante de la library kornia\n",
    "\n",
    "# Kornia : \n",
    "\n",
    "\n",
    "import torch\n",
    "import tensorflow as tf\n",
    "# Version kornia\n",
    "# version kornia\n",
    "import torch.nn.functional\n",
    "\n",
    "def convert_points_to_homogeneous(points):\n",
    "    r\"\"\"Function that converts points from Euclidean to homogeneous space.\n",
    "\n",
    "    See :class:`~torchgeometry.ConvertPointsToHomogeneous` for details.\n",
    "\n",
    "    Examples::\n",
    "\n",
    "        >>> input = torch.rand(2, 4, 3)  # BxNx3\n",
    "        >>> output = tgm.convert_points_to_homogeneous(input)  # BxNx4\n",
    "    \"\"\"\n",
    "    if not torch.is_tensor(points):\n",
    "        raise TypeError(\"Input type is not a torch.Tensor. Got {}\".format(\n",
    "            type(points)))\n",
    "    if len(points.shape) < 2:\n",
    "        raise ValueError(\"Input must be at least a 2D tensor. Got {}\".format(\n",
    "            points.shape))\n",
    "\n",
    "    return torch.nn.functional.pad(points, (0, 1), \"constant\", 1.0)\n",
    "def symmetrical_epipolar_distance(\n",
    "    pts1: torch.Tensor, pts2: torch.Tensor, Fm: torch.Tensor, squared: bool = True, eps: float = 1e-8\n",
    ") -> torch.Tensor:\n",
    "    r\"\"\"Return symmetrical epipolar distance for correspondences given the fundamental matrix.\n",
    "\n",
    "    Args:\n",
    "       pts1: correspondences from the left images with shape\n",
    "         (B, N, 2 or 3). If they are not homogeneous, converted automatically.\n",
    "       pts2: correspondences from the right images with shape\n",
    "         (B, N, 2 or 3). If they are not homogeneous, converted automatically.\n",
    "       Fm: Fundamental matrices with shape :math:`(B, 3, 3)`. Called Fm to\n",
    "         avoid ambiguity with torch.nn.functional.\n",
    "       squared: if True (default), the squared distance is returned.\n",
    "       eps: Small constant for safe sqrt.\n",
    "\n",
    "    Returns:\n",
    "        the computed Symmetrical distance with shape :math:`(B, N)`.\n",
    "\n",
    "    \"\"\"\n",
    "    if not isinstance(Fm, torch.Tensor):\n",
    "        raise TypeError(f\"Fm type is not a torch.Tensor. Got {type(Fm)}\")\n",
    "\n",
    "    if (len(Fm.shape) != 3) or not Fm.shape[-2:] == (3, 3):\n",
    "        raise ValueError(f\"Fm must be a (*, 3, 3) tensor. Got {Fm.shape}\")\n",
    "\n",
    "    if pts1.size(-1) == 2:\n",
    "        pts1 = convert_points_to_homogeneous(pts1)\n",
    "\n",
    "    if pts2.size(-1) == 2:\n",
    "        pts2 = convert_points_to_homogeneous(pts2)\n",
    "\n",
    "    # From Hartley and Zisserman, symmetric epipolar distance (11.10)\n",
    "    # sed = (x'^T F x) ** 2 /  (((Fx)_1**2) + (Fx)_2**2)) +  1/ (((F^Tx')_1**2) + (F^Tx')_2**2))\n",
    "\n",
    "    # line1_in_2: torch.Tensor = (F @ pts1.permute(0,2,1)).permute(0,2,1)\n",
    "    # line2_in_1: torch.Tensor = (F.permute(0,2,1) @ pts2.permute(0,2,1)).permute(0,2,1)\n",
    "\n",
    "    # Instead we can just transpose F once and switch the order of multiplication\n",
    "    F_t: torch.Tensor = Fm.permute(0, 2, 1).type(torch.LongTensor)\n",
    "    print(pts1)\n",
    "    line1_in_2 = pts1 @ F_t\n",
    "    line2_in_1: torch.Tensor = pts2 @ Fm\n",
    "\n",
    "    # numerator = (x'^T F x) ** 2\n",
    "    numerator: torch.Tensor = (pts2 * line1_in_2).sum(2).pow(2)\n",
    "\n",
    "    # denominator_inv =  1/ (((Fx)_1**2) + (Fx)_2**2)) +  1/ (((F^Tx')_1**2) + (F^Tx')_2**2))\n",
    "    denominator_inv: torch.Tensor = 1.0 / (line1_in_2[..., :2].norm(2, dim=2).pow(2)) + 1.0 / (\n",
    "        line2_in_1[..., :2].norm(2, dim=2).pow(2)\n",
    "    )\n",
    "    out: torch.Tensor = numerator * denominator_inv\n",
    "    if squared:\n",
    "        return out\n",
    "    return (out + eps).sqrt()\n",
    "\n",
    "\n",
    "def fundamental_from_projections(P1: torch.Tensor, P2: torch.Tensor) -> torch.Tensor:\n",
    "    r\"\"\"Get the Fundamental matrix from Projection matrices.\n",
    "\n",
    "    Args:\n",
    "        P1: The projection matrix from first camera with shape :math:`(*, 3, 4)`.\n",
    "        P2: The projection matrix from second camera with shape :math:`(*, 3, 4)`.\n",
    "\n",
    "    Returns:\n",
    "         The fundamental matrix with shape :math:`(*, 3, 3)`.\n",
    "\n",
    "    \"\"\"\n",
    "    def vstack(x, y):\n",
    "        return torch.cat([x, y], dim=-2)\n",
    "    X1 = P1[..., 1:, :]\n",
    "    X2 = vstack(P1[..., 2:3, :], P1[..., 0:1, :])\n",
    "    X3 = P1[..., :2, :]\n",
    "\n",
    "    Y1 = P2[..., 1:, :]\n",
    "    Y2 = vstack(P2[..., 2:3, :], P2[..., 0:1, :])\n",
    "    Y3 = P2[..., :2, :]\n",
    "\n",
    "    X1Y1, X2Y1, X3Y1 = vstack(X1, Y1), vstack(X2, Y1), vstack(X3, Y1)\n",
    "    X1Y2, X2Y2, X3Y2 = vstack(X1, Y2), vstack(X2, Y2), vstack(X3, Y2)\n",
    "    X1Y3, X2Y3, X3Y3 = vstack(X1, Y3), vstack(X2, Y3), vstack(X3, Y3)\n",
    "    F_vec = torch.cat(\n",
    "        [\n",
    "            X1Y1.det().reshape(-1, 1),\n",
    "            X2Y1.det().reshape(-1, 1),\n",
    "            X3Y1.det().reshape(-1, 1),\n",
    "            X1Y2.det().reshape(-1, 1),\n",
    "            X2Y2.det().reshape(-1, 1),\n",
    "            X3Y2.det().reshape(-1, 1),\n",
    "            X1Y3.det().reshape(-1, 1),\n",
    "            X2Y3.det().reshape(-1, 1),\n",
    "            X3Y3.det().reshape(-1, 1),\n",
    "        ],\n",
    "        dim=1,\n",
    "    )\n",
    "    return F_vec.view(*P1.shape[:-2], 3, 3)\n",
    "\n",
    "\n",
    "def triangulate_points(\n",
    "    P1: torch.Tensor, P2: torch.Tensor, points1: torch.Tensor, points2: torch.Tensor\n",
    ") -> torch.Tensor:\n",
    "    r\"\"\"Reconstructs a bunch of points by triangulation.\n",
    "\n",
    "    Triangulates the 3d position of 2d correspondences between several images.\n",
    "    Reference: Internally it uses DLT method from Hartley/Zisserman 12.2 pag.312\n",
    "\n",
    "    The input points are assumed to be in homogeneous coordinate system and being inliers\n",
    "    correspondences. The method does not perform any robust estimation.\n",
    "\n",
    "    Args:\n",
    "        P1: The projection matrix for the first camera with shape :math:`(*, 3, 4)`.\n",
    "        P2: The projection matrix for the second camera with shape :math:`(*, 3, 4)`.\n",
    "        points1: The set of points seen from the first camera frame in the camera plane\n",
    "          coordinates with shape :math:`(*, N, 2)`.\n",
    "        points2: The set of points seen from the second camera frame in the camera plane\n",
    "          coordinates with shape :math:`(*, N, 2)`.\n",
    "\n",
    "    Returns:\n",
    "        The reconstructed 3d points in the world frame with shape :math:`(*, N, 3)`.\n",
    "\n",
    "    \"\"\"\n",
    "    if not (len(P1.shape) >= 2 and P1.shape[-2:] == (3, 4)):\n",
    "        raise AssertionError(P1.shape)\n",
    "    if not (len(P2.shape) >= 2 and P2.shape[-2:] == (3, 4)):\n",
    "        raise AssertionError(P2.shape)\n",
    "    if len(P1.shape[:-2]) != len(P2.shape[:-2]):\n",
    "        raise AssertionError(P1.shape, P2.shape)\n",
    "    if not (len(points1.shape) >= 2 and points1.shape[-1] == 2):\n",
    "        raise AssertionError(points1.shape)\n",
    "    if not (len(points2.shape) >= 2 and points2.shape[-1] == 2):\n",
    "        raise AssertionError(points2.shape)\n",
    "    if len(points1.shape[:-2]) != len(points2.shape[:-2]):\n",
    "        raise AssertionError(points1.shape, points2.shape)\n",
    "    if len(P1.shape[:-2]) != len(points1.shape[:-2]):\n",
    "        raise AssertionError(P1.shape, points1.shape)\n",
    "\n",
    "    # allocate and construct the equations matrix with shape (*, 4, 4)\n",
    "    print('_______________________________')\n",
    "    points_shape = max(points1.shape, points2.shape)  # this allows broadcasting\n",
    "    X = torch.zeros(points_shape[:-1] + (4, 4)).type_as(points1)\n",
    "    print(X)\n",
    "    for i in range(4):\n",
    "        X[..., 0, i] = points1[..., 0] * P1[..., 2:3, i] - P1[..., 0:1, i]\n",
    "        X[..., 1, i] = points1[..., 1] * P1[..., 2:3, i] - P1[..., 1:2, i]\n",
    "        X[..., 2, i] = points2[..., 0] * P2[..., 2:3, i] - P2[..., 0:1, i]\n",
    "        X[..., 3, i] = points2[..., 1] * P2[..., 2:3, i] - P2[..., 1:2, i]\n",
    "\n",
    "    # 1. Solve the system Ax=0 with smallest eigenvalue\n",
    "    # 2. Return homogeneous coordinates\n",
    "\n",
    "    _, _, V = torch.svd(X)\n",
    "\n",
    "    points3d_h = V[..., -1]\n",
    "    points3d: torch.Tensor = convert_points_from_homogeneous(points3d_h)\n",
    "    return points3d\n",
    "\n",
    "\n",
    "def convert_points_from_homogeneous(points: torch.Tensor, eps: float = 1e-8) -> torch.Tensor:\n",
    "    r\"\"\"Function that converts points from homogeneous to Euclidean space.\n",
    "\n",
    "    Args:\n",
    "        points: the points to be transformed of shape :math:`(B, N, D)`.\n",
    "        eps: to avoid division by zero.\n",
    "\n",
    "    Returns:\n",
    "        the points in Euclidean space :math:`(B, N, D-1)`.\n",
    "\n",
    "    Examples:\n",
    "        >>> input = torch.tensor([[0., 0., 1.]])\n",
    "        >>> convert_points_from_homogeneous(input)\n",
    "        tensor([[0., 0.]])\n",
    "    \"\"\"\n",
    "    if not isinstance(points, torch.Tensor):\n",
    "        raise TypeError(f\"Input type is not a torch.Tensor. Got {type(points)}\")\n",
    "\n",
    "    if len(points.shape) < 2:\n",
    "        raise ValueError(f\"Input must be at least a 2D tensor. Got {points.shape}\")\n",
    "\n",
    "    # we check for points at max_val\n",
    "    z_vec: torch.Tensor = points[..., -1:]\n",
    "\n",
    "    # set the results of division by zeror/near-zero to 1.0\n",
    "    # follow the convention of opencv:\n",
    "    # https://github.com/opencv/opencv/pull/14411/files\n",
    "    mask: torch.Tensor = torch.abs(z_vec) > eps\n",
    "    scale = torch.where(mask, 1.0 / (z_vec + eps), torch.ones_like(z_vec))\n",
    "\n",
    "    return scale * points[..., :-1]\n"
   ]
  },
  {
   "cell_type": "markdown",
   "id": "01393857",
   "metadata": {},
   "source": [
    "#### On prend deux matrices de projection de deux camera de Campus_seq et on calcule F\n",
    "\n"
   ]
  },
  {
   "cell_type": "code",
   "execution_count": 47,
   "id": "6546aebf",
   "metadata": {},
   "outputs": [
    {
     "data": {
      "text/plain": [
       "array([[-1.2074024e+04,  1.5901038e+06, -1.4935422e+08],\n",
       "       [ 1.9149804e+06,  6.7461953e+04,  3.0549645e+08],\n",
       "       [-1.5097872e+08, -1.1021116e+09,  7.7577454e+10]], dtype=float32)"
      ]
     },
     "execution_count": 47,
     "metadata": {},
     "output_type": "execute_result"
    }
   ],
   "source": [
    "# Matrice 1\n",
    "P1=torch.tensor([[439.0,180.81,-26.946,185.95],[-5.3416,88.523,-450.95,1324],[0.0060594,0.99348,-0.11385,5.227]])\n",
    "# Matrice 2\n",
    "P2=torch.tensor([[162.36,-438.34,-17.508,3347.4],[73.3,-10.043,-443.34,1373.5],[0.99035,-0.047887,-0.13009,6.6849]])\n",
    "# Calcul de la matrice fondamentale\n",
    "f=fundamental_from_projections(P1,P2)\n",
    "f.numpy()"
   ]
  },
  {
   "cell_type": "markdown",
   "id": "e4039e02",
   "metadata": {},
   "source": [
    "### On vérifie $x=PX$  \n",
    "avec X coord 3D et x sa projection 2D\n",
    "#### On choisit un point 3D et on cherche sa projection sur les deux cameras"
   ]
  },
  {
   "cell_type": "code",
   "execution_count": 56,
   "id": "3fee3a7e",
   "metadata": {},
   "outputs": [
    {
     "name": "stdout",
     "output_type": "stream",
     "text": [
      "tensor([[219.8647],\n",
      "        [157.1580],\n",
      "        [  1.0000]])\n",
      "tensor([[240.8366],\n",
      "        [172.8413],\n",
      "        [  1.0000]])\n"
     ]
    }
   ],
   "source": [
    "pt3D = torch.tensor([[2.9872, 4.0063, 0.1581]])\n",
    "# passage en coord homogens (rajout d'un 1)\n",
    "pt3D_h=convert_points_to_homogeneous(pt3D)\n",
    "# projections\n",
    "# camera 2\n",
    "x2=torch.matmul(P2,torch.transpose(pt3D_h, 0, 1))\n",
    "x2=x2/x2[2]\n",
    "print(x2)\n",
    "# camera 1\n",
    "x1=torch.matmul(P1,torch.transpose(pt3D_h, 0, 1))\n",
    "x1=x1/x1[2]\n",
    "print(x1)\n"
   ]
  },
  {
   "cell_type": "markdown",
   "id": "377051e0",
   "metadata": {},
   "source": [
    "#### Ces deux valeurs doivent être égales à [220,158,1] et [ 241  ,172,1]               (groudTruth de VoxelPose)\n",
    "### On vérifie $x^t F x' = 0$  \n",
    "avec x' et x deux projections 2D\n",
    "#### On choisit un point 3D et on cherche sa projection sur les deux cameras"
   ]
  },
  {
   "cell_type": "code",
   "execution_count": 57,
   "id": "a7de8a30",
   "metadata": {},
   "outputs": [
    {
     "data": {
      "text/plain": [
       "array([[0.]], dtype=float32)"
      ]
     },
     "execution_count": 57,
     "metadata": {},
     "output_type": "execute_result"
    }
   ],
   "source": [
    "torch.matmul(torch.matmul(torch.transpose(x2,1,0),f),x1).numpy()"
   ]
  },
  {
   "cell_type": "markdown",
   "id": "aa7dd98a",
   "metadata": {},
   "source": [
    "=> YESSSSS ! "
   ]
  },
  {
   "cell_type": "markdown",
   "id": "b7c81395",
   "metadata": {},
   "source": [
    "# L'erreur sur tf ??"
   ]
  },
  {
   "cell_type": "code",
   "execution_count": 83,
   "id": "814d693b",
   "metadata": {},
   "outputs": [
    {
     "data": {
      "text/plain": [
       "array([[-16384.]], dtype=float32)"
      ]
     },
     "execution_count": 83,
     "metadata": {},
     "output_type": "execute_result"
    }
   ],
   "source": [
    "## x2^t F x1  donne pas zéro\n",
    "tf.matmul(tf.matmul(tf.transpose(x2,(1,0)),f),x1).numpy()"
   ]
  },
  {
   "cell_type": "markdown",
   "id": "16556e90",
   "metadata": {},
   "source": [
    "### la valeur de x2^t"
   ]
  },
  {
   "cell_type": "code",
   "execution_count": 85,
   "id": "6cb5d873",
   "metadata": {},
   "outputs": [
    {
     "data": {
      "text/plain": [
       "array([[219.86467, 157.15799,   1.     ]], dtype=float32)"
      ]
     },
     "execution_count": 85,
     "metadata": {},
     "output_type": "execute_result"
    }
   ],
   "source": [
    "tf.transpose(x2,(1,0)).numpy()"
   ]
  },
  {
   "cell_type": "markdown",
   "id": "fa04a6a4",
   "metadata": {},
   "source": [
    "### si on arrandit ..."
   ]
  },
  {
   "cell_type": "code",
   "execution_count": 86,
   "id": "15c20ca7",
   "metadata": {},
   "outputs": [
    {
     "data": {
      "text/plain": [
       "array([[0.]], dtype=float32)"
      ]
     },
     "execution_count": 86,
     "metadata": {},
     "output_type": "execute_result"
    }
   ],
   "source": [
    "x2t=tf.constant([[219.8647, 157.1580,   1.0000 ]])\n",
    "\n",
    "tf.matmul(tf.matmul(x2t,f),x1).numpy()"
   ]
  }
 ],
 "metadata": {
  "kernelspec": {
   "display_name": "Python 3",
   "language": "python",
   "name": "python3"
  },
  "language_info": {
   "codemirror_mode": {
    "name": "ipython",
    "version": 3
   },
   "file_extension": ".py",
   "mimetype": "text/x-python",
   "name": "python",
   "nbconvert_exporter": "python",
   "pygments_lexer": "ipython3",
   "version": "3.8.8"
  }
 },
 "nbformat": 4,
 "nbformat_minor": 5
}
