{
 "cells": [
  {
   "cell_type": "code",
   "execution_count": 158,
   "id": "f9277924",
   "metadata": {},
   "outputs": [],
   "source": [
    "from load_campus_pose import *\n",
    "from gt_campus import *\n",
    "import numpy as np\n",
    "import pickle\n",
    "import os"
   ]
  },
  {
   "cell_type": "markdown",
   "id": "31a9d355",
   "metadata": {},
   "source": [
    "# Voxel pose\n",
    "## Generate 2D human centers poses "
   ]
  },
  {
   "cell_type": "code",
   "execution_count": 159,
   "id": "a9556c49",
   "metadata": {},
   "outputs": [],
   "source": [
    "vx_data=voxel_campus()\n",
    "joints='joints_2d'"
   ]
  },
  {
   "cell_type": "code",
   "execution_count": 160,
   "id": "60c25137",
   "metadata": {},
   "outputs": [],
   "source": [
    "dic_frame={}\n",
    "for frame in range (704,1999):\n",
    "    dic_cam={}\n",
    "    for cam in range (3) :\n",
    "        cdm_frame=[]\n",
    "        for j in vx_data.get_data_campus(frame,cam,joints) :\n",
    "          #  print('joints = \\n',j)\n",
    "            cdm=(j[2]+j[3])/2\n",
    "            cdm_frame = np.append(cdm_frame , cdm)\n",
    "        if len(cdm_frame) != 0 : \n",
    "            cdm_frame=cdm_frame.reshape(len(cdm_frame)//2, 2)\n",
    "        dic_cam.update({'camera_'+str(cam) : {'human centers' : cdm_frame}})\n",
    "    dic_frame.update({'image_'+str(frame)  : dic_cam})\n"
   ]
  },
  {
   "cell_type": "code",
   "execution_count": 161,
   "id": "03e942a0",
   "metadata": {},
   "outputs": [],
   "source": [
    "# save\n",
    "destination=os.path.abspath('../../data/Campus/voxel_2d_human_centers.pkl')\n",
    "a_file = open(destination, \"wb\")\n",
    "pickle.dump(dic_frame, a_file)\n",
    "a_file.close()"
   ]
  },
  {
   "cell_type": "markdown",
   "id": "dc8027bb",
   "metadata": {},
   "source": [
    "## Generate 3D human centers poses "
   ]
  },
  {
   "cell_type": "code",
   "execution_count": 200,
   "id": "ec7d9c83",
   "metadata": {},
   "outputs": [],
   "source": [
    "joints_3d='joints_3d'\n",
    "dic_frame_3d={}\n",
    "for frame in range (704,1999):\n",
    "    cdm_frame=[]\n",
    "    for j in vx_data.get_data_campus(frame,cam,joints_3d) :\n",
    "          #  print('joints = \\n',j)\n",
    "        cdm=(j[2]+j[3])/2\n",
    "        cdm_frame = np.append(cdm_frame , cdm)\n",
    "    if len(cdm_frame) != 0 : \n",
    "        cdm_frame=cdm_frame.reshape(len(cdm_frame)//3, 3)    \n",
    "    dic_frame_3d.update({'image_'+str(frame) : {'human centers_3d' : cdm_frame}})\n"
   ]
  },
  {
   "cell_type": "code",
   "execution_count": 201,
   "id": "9489a17c",
   "metadata": {},
   "outputs": [
    {
     "data": {
      "text/plain": [
       "{'human centers_3d': array([[3639.53808649, 3450.05856202, 1002.17334822]])}"
      ]
     },
     "execution_count": 201,
     "metadata": {},
     "output_type": "execute_result"
    }
   ],
   "source": [
    "dic_frame_3d['image_1169']"
   ]
  },
  {
   "cell_type": "code",
   "execution_count": 174,
   "id": "4664b43d",
   "metadata": {},
   "outputs": [],
   "source": [
    "# save\n",
    "destination=os.path.abspath('../../data/Campus/voxel_3d_human_centers.pkl')\n",
    "a_file = open(destination, \"wb\")\n",
    "pickle.dump(dic_frame_3d, a_file)\n",
    "a_file.close()"
   ]
  },
  {
   "cell_type": "code",
   "execution_count": 176,
   "id": "2fa80d5e",
   "metadata": {},
   "outputs": [],
   "source": [
    "\n",
    "file=os.path.abspath('../../data/Campus/voxel_3d_human_centers.pkl')\n",
    "a_file = open(file, \"rb\")\n",
    "output = pickle.load(a_file)\n",
    "a_file.close()"
   ]
  },
  {
   "cell_type": "code",
   "execution_count": 177,
   "id": "1fc08ebe",
   "metadata": {},
   "outputs": [
    {
     "data": {
      "text/plain": [
       "{'human centers_3d': array([[3639.53808649, 3450.05856202, 1002.17334822]])}"
      ]
     },
     "execution_count": 177,
     "metadata": {},
     "output_type": "execute_result"
    }
   ],
   "source": [
    "output['image_1169']"
   ]
  },
  {
   "cell_type": "markdown",
   "id": "d18113dc",
   "metadata": {},
   "source": [
    "# Ground Truth"
   ]
  },
  {
   "cell_type": "code",
   "execution_count": 55,
   "id": "73359df5",
   "metadata": {},
   "outputs": [],
   "source": [
    "gt_data=gt()"
   ]
  },
  {
   "cell_type": "code",
   "execution_count": 61,
   "id": "c7bf291b",
   "metadata": {},
   "outputs": [
    {
     "data": {
      "text/plain": [
       "array([346.5, 131. ])"
      ]
     },
     "execution_count": 61,
     "metadata": {},
     "output_type": "execute_result"
    }
   ],
   "source": [
    "frame=2\n",
    "actor=1\n",
    "camera=1\n",
    "gt_data.get_human_center(frame,actor,camera)"
   ]
  },
  {
   "cell_type": "code",
   "execution_count": 146,
   "id": "096a9200",
   "metadata": {},
   "outputs": [],
   "source": [
    "dic_frame={}\n",
    "for frame in range(704,1999):\n",
    "    dic_cam={}\n",
    "    for cam in range(1,4) :\n",
    "        cdm_frame=[]\n",
    "        for actor in range (1,4):\n",
    "            cdm_cam=gt_data.get_human_center(frame-703,actor,cam)\n",
    "            if cdm_cam.all() != 0.:\n",
    "                cdm_frame = np.append(cdm_frame , cdm_cam)\n",
    "        if len(cdm_frame) != 0 : \n",
    "            cdm_frame=cdm_frame.reshape(len(cdm_frame)//2, 2)\n",
    "        dic_cam.update({'camera_'+str(cam-1) : {'human centers' : cdm_frame}})\n",
    "    dic_frame.update({'image_'+str(frame)  : dic_cam})"
   ]
  },
  {
   "cell_type": "code",
   "execution_count": 147,
   "id": "c1a8262d",
   "metadata": {},
   "outputs": [],
   "source": [
    "destination=os.path.abspath('../../data/Campus/GT_2d_human_centers.pkl')\n",
    "a_file = open(destination, \"wb\")\n",
    "pickle.dump(dic_frame, a_file)\n",
    "a_file.close()"
   ]
  },
  {
   "cell_type": "code",
   "execution_count": 149,
   "id": "c2e1a115",
   "metadata": {},
   "outputs": [
    {
     "data": {
      "text/plain": [
       "{'camera_0': {'human centers': array([[278. , 135.5]])},\n",
       " 'camera_1': {'human centers': array([[240., 116.]])},\n",
       " 'camera_2': {'human centers': array([[166.2684 , 118.25453]])}}"
      ]
     },
     "execution_count": 149,
     "metadata": {},
     "output_type": "execute_result"
    }
   ],
   "source": [
    "a_file = open(destination, \"rb\")\n",
    "output = pickle.load(a_file)\n",
    "a_file.close()\n",
    "output['image_1169']"
   ]
  },
  {
   "cell_type": "markdown",
   "id": "68ec76a0",
   "metadata": {},
   "source": [
    "## 3D"
   ]
  },
  {
   "cell_type": "code",
   "execution_count": 207,
   "id": "b9ba4a4b",
   "metadata": {},
   "outputs": [],
   "source": [
    "dic_frame_3d_GT={}\n",
    "for frame in range(704,1999):\n",
    "    dic_cam={}\n",
    "    cdm_frame=[]\n",
    "    for actor in range (1,4):\n",
    "            cdm_cam=gt_data.get_human_center3D(frame-703,actor)*1e3\n",
    "            if cdm_cam.all() != 0.:\n",
    "                cdm_frame = np.append(cdm_frame , cdm_cam)\n",
    "    if len(cdm_frame) != 0 : \n",
    "            cdm_frame=cdm_frame.reshape(len(cdm_frame)//3, 3)\n",
    "    dic_frame_3d_GT.update({'image_'+str(frame) : {'human centers_3d' : cdm_frame}})\n"
   ]
  },
  {
   "cell_type": "code",
   "execution_count": 217,
   "id": "a6c484a6",
   "metadata": {},
   "outputs": [
    {
     "data": {
      "text/plain": [
       "{'human centers_3d': array([[3729.21185, 3730.0547 , 1006.28125]])}"
      ]
     },
     "execution_count": 217,
     "metadata": {},
     "output_type": "execute_result"
    }
   ],
   "source": [
    "dic_frame_3d_GT['image_1159']"
   ]
  },
  {
   "cell_type": "code",
   "execution_count": 219,
   "id": "deb4916b",
   "metadata": {},
   "outputs": [],
   "source": [
    "# save\n",
    "destination=os.path.abspath('../../data/Campus/GT_3d_human_centers.pkl')\n",
    "a_file = open(destination, \"wb\")\n",
    "pickle.dump(dic_frame_3d_GT, a_file)\n",
    "a_file.close()"
   ]
  },
  {
   "cell_type": "code",
   "execution_count": null,
   "id": "bda55b88",
   "metadata": {},
   "outputs": [],
   "source": []
  },
  {
   "cell_type": "code",
   "execution_count": null,
   "id": "8e8ef68b",
   "metadata": {},
   "outputs": [],
   "source": []
  },
  {
   "cell_type": "code",
   "execution_count": null,
   "id": "c0f6b499",
   "metadata": {},
   "outputs": [],
   "source": []
  }
 ],
 "metadata": {
  "kernelspec": {
   "display_name": "Python 3",
   "language": "python",
   "name": "python3"
  },
  "language_info": {
   "codemirror_mode": {
    "name": "ipython",
    "version": 3
   },
   "file_extension": ".py",
   "mimetype": "text/x-python",
   "name": "python",
   "nbconvert_exporter": "python",
   "pygments_lexer": "ipython3",
   "version": "3.8.8"
  }
 },
 "nbformat": 4,
 "nbformat_minor": 5
}
